{
 "cells": [
  {
   "cell_type": "code",
   "execution_count": 1,
   "metadata": {
    "_cell_guid": "b1076dfc-b9ad-4769-8c92-a6c4dae69d19",
    "_uuid": "8f2839f25d086af736a60e9eeb907d3b93b6e0e5"
   },
   "outputs": [],
   "source": [
    "# This Python 3 environment comes with many helpful analytics libraries installed\n",
    "# It is defined by the kaggle/python Docker image: https://github.com/kaggle/docker-python\n",
    "# For example, here's several helpful packages to load\n",
    "\n",
    "import numpy as np # linear algebra\n",
    "import pandas as pd # data processing, CSV file I/O (e.g. pd.read_csv)\n"
   ]
  },
  {
   "cell_type": "code",
   "execution_count": 2,
   "metadata": {},
   "outputs": [
    {
     "name": "stdout",
     "output_type": "stream",
     "text": [
      "Dataset Successfully Imported\n"
     ]
    }
   ],
   "source": [
    "#Importing the Dataset\n",
    "df=pd.read_csv('fraud_dataset_example.csv')\n",
    "print('Dataset Successfully Imported')"
   ]
  },
  {
   "cell_type": "code",
   "execution_count": 3,
   "metadata": {},
   "outputs": [
    {
     "data": {
      "text/html": [
       "<div>\n",
       "<style scoped>\n",
       "    .dataframe tbody tr th:only-of-type {\n",
       "        vertical-align: middle;\n",
       "    }\n",
       "\n",
       "    .dataframe tbody tr th {\n",
       "        vertical-align: top;\n",
       "    }\n",
       "\n",
       "    .dataframe thead th {\n",
       "        text-align: right;\n",
       "    }\n",
       "</style>\n",
       "<table border=\"1\" class=\"dataframe\">\n",
       "  <thead>\n",
       "    <tr style=\"text-align: right;\">\n",
       "      <th></th>\n",
       "      <th>step</th>\n",
       "      <th>type</th>\n",
       "      <th>amount</th>\n",
       "      <th>nameOrig</th>\n",
       "      <th>oldbalanceOrg</th>\n",
       "      <th>newbalanceOrig</th>\n",
       "      <th>nameDest</th>\n",
       "      <th>oldbalanceDest</th>\n",
       "      <th>newbalanceDest</th>\n",
       "      <th>isFraud</th>\n",
       "      <th>isFlaggedFraud</th>\n",
       "    </tr>\n",
       "  </thead>\n",
       "  <tbody>\n",
       "    <tr>\n",
       "      <th>0</th>\n",
       "      <td>1</td>\n",
       "      <td>PAYMENT</td>\n",
       "      <td>9839.64</td>\n",
       "      <td>C1231006815</td>\n",
       "      <td>170136.0</td>\n",
       "      <td>160296.36</td>\n",
       "      <td>M1979787155</td>\n",
       "      <td>0.0</td>\n",
       "      <td>0.0</td>\n",
       "      <td>0</td>\n",
       "      <td>0</td>\n",
       "    </tr>\n",
       "    <tr>\n",
       "      <th>1</th>\n",
       "      <td>1</td>\n",
       "      <td>PAYMENT</td>\n",
       "      <td>1864.28</td>\n",
       "      <td>C1666544295</td>\n",
       "      <td>21249.0</td>\n",
       "      <td>19384.72</td>\n",
       "      <td>M2044282225</td>\n",
       "      <td>0.0</td>\n",
       "      <td>0.0</td>\n",
       "      <td>0</td>\n",
       "      <td>0</td>\n",
       "    </tr>\n",
       "    <tr>\n",
       "      <th>2</th>\n",
       "      <td>1</td>\n",
       "      <td>TRANSFER</td>\n",
       "      <td>181.00</td>\n",
       "      <td>C1305486145</td>\n",
       "      <td>181.0</td>\n",
       "      <td>0.00</td>\n",
       "      <td>C553264065</td>\n",
       "      <td>0.0</td>\n",
       "      <td>0.0</td>\n",
       "      <td>1</td>\n",
       "      <td>0</td>\n",
       "    </tr>\n",
       "    <tr>\n",
       "      <th>3</th>\n",
       "      <td>1</td>\n",
       "      <td>CASH_OUT</td>\n",
       "      <td>181.00</td>\n",
       "      <td>C840083671</td>\n",
       "      <td>181.0</td>\n",
       "      <td>0.00</td>\n",
       "      <td>C38997010</td>\n",
       "      <td>21182.0</td>\n",
       "      <td>0.0</td>\n",
       "      <td>1</td>\n",
       "      <td>0</td>\n",
       "    </tr>\n",
       "    <tr>\n",
       "      <th>4</th>\n",
       "      <td>1</td>\n",
       "      <td>PAYMENT</td>\n",
       "      <td>11668.14</td>\n",
       "      <td>C2048537720</td>\n",
       "      <td>41554.0</td>\n",
       "      <td>29885.86</td>\n",
       "      <td>M1230701703</td>\n",
       "      <td>0.0</td>\n",
       "      <td>0.0</td>\n",
       "      <td>0</td>\n",
       "      <td>0</td>\n",
       "    </tr>\n",
       "  </tbody>\n",
       "</table>\n",
       "</div>"
      ],
      "text/plain": [
       "   step      type    amount     nameOrig  oldbalanceOrg  newbalanceOrig  \\\n",
       "0     1   PAYMENT   9839.64  C1231006815       170136.0       160296.36   \n",
       "1     1   PAYMENT   1864.28  C1666544295        21249.0        19384.72   \n",
       "2     1  TRANSFER    181.00  C1305486145          181.0            0.00   \n",
       "3     1  CASH_OUT    181.00   C840083671          181.0            0.00   \n",
       "4     1   PAYMENT  11668.14  C2048537720        41554.0        29885.86   \n",
       "\n",
       "      nameDest  oldbalanceDest  newbalanceDest  isFraud  isFlaggedFraud  \n",
       "0  M1979787155             0.0             0.0        0               0  \n",
       "1  M2044282225             0.0             0.0        0               0  \n",
       "2   C553264065             0.0             0.0        1               0  \n",
       "3    C38997010         21182.0             0.0        1               0  \n",
       "4  M1230701703             0.0             0.0        0               0  "
      ]
     },
     "execution_count": 3,
     "metadata": {},
     "output_type": "execute_result"
    }
   ],
   "source": [
    "df.head(5)"
   ]
  },
  {
   "cell_type": "markdown",
   "metadata": {},
   "source": [
    "# **Data Cleaning** "
   ]
  },
  {
   "cell_type": "code",
   "execution_count": 4,
   "metadata": {},
   "outputs": [
    {
     "data": {
      "text/plain": [
       "0"
      ]
     },
     "execution_count": 4,
     "metadata": {},
     "output_type": "execute_result"
    }
   ],
   "source": [
    "#checking duplicate values\n",
    "df.duplicated().sum()"
   ]
  },
  {
   "cell_type": "code",
   "execution_count": 5,
   "metadata": {},
   "outputs": [
    {
     "data": {
      "text/plain": [
       "step              0\n",
       "type              0\n",
       "amount            0\n",
       "nameOrig          0\n",
       "oldbalanceOrg     0\n",
       "newbalanceOrig    0\n",
       "nameDest          0\n",
       "oldbalanceDest    0\n",
       "newbalanceDest    0\n",
       "isFraud           0\n",
       "isFlaggedFraud    0\n",
       "dtype: int64"
      ]
     },
     "execution_count": 5,
     "metadata": {},
     "output_type": "execute_result"
    }
   ],
   "source": [
    "#checking null values\n",
    "df.isnull().sum()"
   ]
  },
  {
   "cell_type": "code",
   "execution_count": 6,
   "metadata": {},
   "outputs": [
    {
     "data": {
      "text/plain": [
       "(101613, 11)"
      ]
     },
     "execution_count": 6,
     "metadata": {},
     "output_type": "execute_result"
    }
   ],
   "source": [
    "df.shape"
   ]
  },
  {
   "cell_type": "code",
   "execution_count": 7,
   "metadata": {},
   "outputs": [
    {
     "name": "stdout",
     "output_type": "stream",
     "text": [
      "<class 'pandas.core.frame.DataFrame'>\n",
      "RangeIndex: 101613 entries, 0 to 101612\n",
      "Data columns (total 11 columns):\n",
      " #   Column          Non-Null Count   Dtype  \n",
      "---  ------          --------------   -----  \n",
      " 0   step            101613 non-null  int64  \n",
      " 1   type            101613 non-null  object \n",
      " 2   amount          101613 non-null  float64\n",
      " 3   nameOrig        101613 non-null  object \n",
      " 4   oldbalanceOrg   101613 non-null  float64\n",
      " 5   newbalanceOrig  101613 non-null  float64\n",
      " 6   nameDest        101613 non-null  object \n",
      " 7   oldbalanceDest  101613 non-null  float64\n",
      " 8   newbalanceDest  101613 non-null  float64\n",
      " 9   isFraud         101613 non-null  int64  \n",
      " 10  isFlaggedFraud  101613 non-null  int64  \n",
      "dtypes: float64(5), int64(3), object(3)\n",
      "memory usage: 8.5+ MB\n"
     ]
    }
   ],
   "source": [
    "df.info()"
   ]
  },
  {
   "cell_type": "code",
   "execution_count": 8,
   "metadata": {},
   "outputs": [
    {
     "data": {
      "text/plain": [
       "Index(['step', 'type', 'amount', 'nameOrig', 'oldbalanceOrg', 'newbalanceOrig',\n",
       "       'nameDest', 'oldbalanceDest', 'newbalanceDest', 'isFraud',\n",
       "       'isFlaggedFraud'],\n",
       "      dtype='object')"
      ]
     },
     "execution_count": 8,
     "metadata": {},
     "output_type": "execute_result"
    }
   ],
   "source": [
    "df.columns"
   ]
  },
  {
   "cell_type": "code",
   "execution_count": 9,
   "metadata": {},
   "outputs": [
    {
     "data": {
      "text/plain": [
       "array([ 1,  2,  3,  4,  5,  6,  7,  8,  9, 10], dtype=int64)"
      ]
     },
     "execution_count": 9,
     "metadata": {},
     "output_type": "execute_result"
    }
   ],
   "source": [
    "df['step'].unique()"
   ]
  },
  {
   "cell_type": "code",
   "execution_count": 10,
   "metadata": {},
   "outputs": [
    {
     "data": {
      "text/plain": [
       "array(['PAYMENT', 'TRANSFER', 'CASH_OUT', 'DEBIT', 'CASH_IN'],\n",
       "      dtype=object)"
      ]
     },
     "execution_count": 10,
     "metadata": {},
     "output_type": "execute_result"
    }
   ],
   "source": [
    "df['type'].unique()"
   ]
  },
  {
   "cell_type": "code",
   "execution_count": 11,
   "metadata": {},
   "outputs": [
    {
     "data": {
      "text/plain": [
       "PAYMENT     40062\n",
       "CASH_OUT    31310\n",
       "CASH_IN     20540\n",
       "TRANSFER     8689\n",
       "DEBIT        1012\n",
       "Name: type, dtype: int64"
      ]
     },
     "execution_count": 11,
     "metadata": {},
     "output_type": "execute_result"
    }
   ],
   "source": [
    "df['type'].value_counts()"
   ]
  },
  {
   "cell_type": "code",
   "execution_count": 12,
   "metadata": {},
   "outputs": [],
   "source": [
    "type=df['type'].value_counts()"
   ]
  },
  {
   "cell_type": "code",
   "execution_count": 13,
   "metadata": {},
   "outputs": [],
   "source": [
    "transaction=type.index"
   ]
  },
  {
   "cell_type": "code",
   "execution_count": 14,
   "metadata": {},
   "outputs": [],
   "source": [
    "quantity=type.values"
   ]
  },
  {
   "cell_type": "code",
   "execution_count": 15,
   "metadata": {},
   "outputs": [
    {
     "name": "stdout",
     "output_type": "stream",
     "text": [
      "0. Step: 10\n",
      "1. Type: 5\n",
      "2. Amount: 101069\n",
      "3. Nameorig: 101613\n",
      "4. Oldbalanceorg: 59037\n",
      "5. Newbalanceorig: 49018\n",
      "6. Namedest: 52280\n",
      "7. Oldbalancedest: 54585\n",
      "8. Newbalancedest: 19741\n",
      "9. Isfraud: 2\n",
      "10. Isflaggedfraud: 1\n"
     ]
    }
   ],
   "source": [
    "for i, column in enumerate(df.columns):\n",
    "    print(\"{}. \".format(i) + str(column.title()) + \": {}\". format(df[column].nunique()))\n",
    "    "
   ]
  },
  {
   "cell_type": "markdown",
   "metadata": {},
   "source": [
    "# **EDA & Data Visualization**"
   ]
  },
  {
   "cell_type": "code",
   "execution_count": 16,
   "metadata": {},
   "outputs": [
    {
     "name": "stdout",
     "output_type": "stream",
     "text": [
      "Setup Complete\n"
     ]
    }
   ],
   "source": [
    "pd.plotting.register_matplotlib_converters()\n",
    "import matplotlib.pyplot as plt\n",
    "%matplotlib inline\n",
    "import seaborn as sns \n",
    "print('Setup Complete')"
   ]
  },
  {
   "cell_type": "code",
   "execution_count": 17,
   "metadata": {},
   "outputs": [],
   "source": [
    "fraud=df['isFraud'].value_counts()\n",
    "fraud = fraud.values"
   ]
  },
  {
   "cell_type": "code",
   "execution_count": 18,
   "metadata": {},
   "outputs": [
    {
     "data": {
      "image/png": "[encoded data removed]",
      "text/plain": [
       "<Figure size 1200x600 with 1 Axes>"
      ]
     },
     "metadata": {},
     "output_type": "display_data"
    }
   ],
   "source": [
    "plt.figure(figsize=(12,6))\n",
    "y = np.array(fraud)\n",
    "mylabels = [\"no\",\"yes\"]\n",
    "\n",
    "plt.pie(y, labels = mylabels,autopct='%1.1f%%')\n",
    "plt.show()"
   ]
  },
  {
   "cell_type": "code",
   "execution_count": 19,
   "metadata": {},
   "outputs": [
    {
     "data": {
      "image/png": "[encoded data removed]",
      "text/plain": [
       "<Figure size 640x480 with 1 Axes>"
      ]
     },
     "metadata": {},
     "output_type": "display_data"
    }
   ],
   "source": [
    "import matplotlib.pyplot as plt\n",
    "import numpy as np\n",
    "\n",
    "y = np.array(quantity)\n",
    "mylabels = transaction\n",
    "\n",
    "plt.pie(y, labels = mylabels,autopct='%1.1f%%')\n",
    "plt.show() "
   ]
  },
  {
   "cell_type": "code",
   "execution_count": 20,
   "metadata": {},
   "outputs": [
    {
     "data": {
      "text/plain": [
       "0    101497\n",
       "1       116\n",
       "Name: isFraud, dtype: int64"
      ]
     },
     "execution_count": 20,
     "metadata": {},
     "output_type": "execute_result"
    }
   ],
   "source": [
    "df['isFraud'].value_counts()"
   ]
  },
  {
   "cell_type": "code",
   "execution_count": 21,
   "metadata": {},
   "outputs": [
    {
     "data": {
      "text/plain": [
       "<Axes: xlabel='type', ylabel='Count'>"
      ]
     },
     "execution_count": 21,
     "metadata": {},
     "output_type": "execute_result"
    },
    {
     "data": {
      "image/png": "[encoded data removed]",
      "text/plain": [
       "<Figure size 1200x600 with 1 Axes>"
      ]
     },
     "metadata": {},
     "output_type": "display_data"
    }
   ],
   "source": [
    "plt.figure(figsize=(12,6))\n",
    "sns.histplot(df[df['isFraud'] == 1]['type'])"
   ]
  },
  {
   "cell_type": "code",
   "execution_count": 22,
   "metadata": {},
   "outputs": [
    {
     "data": {
      "text/plain": [
       "<Axes: xlabel='type', ylabel='Count'>"
      ]
     },
     "execution_count": 22,
     "metadata": {},
     "output_type": "execute_result"
    },
    {
     "data": {
      "image/png": "[encoded data removed]",
      "text/plain": [
       "<Figure size 1200x600 with 1 Axes>"
      ]
     },
     "metadata": {},
     "output_type": "display_data"
    }
   ],
   "source": [
    "plt.figure(figsize=(12,6))\n",
    "sns.histplot(df[df['isFraud'] == 0]['type'])"
   ]
  },
  {
   "cell_type": "code",
   "execution_count": 23,
   "metadata": {},
   "outputs": [
    {
     "name": "stderr",
     "output_type": "stream",
     "text": [
      "C:\\Users\\Soumyadeep\\AppData\\Local\\Temp\\ipykernel_15144\\4277794465.py:1: FutureWarning: The default value of numeric_only in DataFrame.corr is deprecated. In a future version, it will default to False. Select only valid columns or specify the value of numeric_only to silence this warning.\n",
      "  sns.heatmap(df.corr(),annot=True)\n"
     ]
    },
    {
     "data": {
      "text/plain": [
       "<Axes: >"
      ]
     },
     "execution_count": 23,
     "metadata": {},
     "output_type": "execute_result"
    },
    {
     "data": {
      "image/png": "[encoded data removed]",
      "text/plain": [
       "<Figure size 640x480 with 2 Axes>"
      ]
     },
     "metadata": {},
     "output_type": "display_data"
    }
   ],
   "source": [
    "sns.heatmap(df.corr(),annot=True)"
   ]
  },
  {
   "cell_type": "code",
   "execution_count": null,
   "metadata": {},
   "outputs": [],
   "source": []
  },
  {
   "cell_type": "code",
   "execution_count": 24,
   "metadata": {},
   "outputs": [
    {
     "data": {
      "text/plain": [
       "(101613, 11)"
      ]
     },
     "execution_count": 24,
     "metadata": {},
     "output_type": "execute_result"
    }
   ],
   "source": [
    "df.shape"
   ]
  },
  {
   "cell_type": "code",
   "execution_count": 25,
   "metadata": {},
   "outputs": [
    {
     "data": {
      "text/plain": [
       "C1231006815    1\n",
       "C358333738     1\n",
       "C917141406     1\n",
       "C1797964264    1\n",
       "C59265825      1\n",
       "              ..\n",
       "C1647349751    1\n",
       "C843142567     1\n",
       "C1860747846    1\n",
       "C754172061     1\n",
       "C515691325     1\n",
       "Name: nameOrig, Length: 101613, dtype: int64"
      ]
     },
     "execution_count": 25,
     "metadata": {},
     "output_type": "execute_result"
    }
   ],
   "source": [
    "df['nameOrig'].value_counts()"
   ]
  },
  {
   "cell_type": "code",
   "execution_count": 26,
   "metadata": {},
   "outputs": [
    {
     "data": {
      "text/plain": [
       "C985934102     78\n",
       "C1286084959    72\n",
       "C248609774     71\n",
       "C1590550415    70\n",
       "C2083562754    66\n",
       "               ..\n",
       "M1555760964     1\n",
       "M338533290      1\n",
       "M1786033562     1\n",
       "M1947241909     1\n",
       "M334249577      1\n",
       "Name: nameDest, Length: 52280, dtype: int64"
      ]
     },
     "execution_count": 26,
     "metadata": {},
     "output_type": "execute_result"
    }
   ],
   "source": [
    "df['nameDest'].value_counts()"
   ]
  },
  {
   "cell_type": "code",
   "execution_count": 27,
   "metadata": {},
   "outputs": [
    {
     "data": {
      "text/html": [
       "<div>\n",
       "<style scoped>\n",
       "    .dataframe tbody tr th:only-of-type {\n",
       "        vertical-align: middle;\n",
       "    }\n",
       "\n",
       "    .dataframe tbody tr th {\n",
       "        vertical-align: top;\n",
       "    }\n",
       "\n",
       "    .dataframe thead th {\n",
       "        text-align: right;\n",
       "    }\n",
       "</style>\n",
       "<table border=\"1\" class=\"dataframe\">\n",
       "  <thead>\n",
       "    <tr style=\"text-align: right;\">\n",
       "      <th></th>\n",
       "      <th>step</th>\n",
       "      <th>amount</th>\n",
       "      <th>oldbalanceOrg</th>\n",
       "      <th>newbalanceOrig</th>\n",
       "      <th>oldbalanceDest</th>\n",
       "      <th>newbalanceDest</th>\n",
       "      <th>isFraud</th>\n",
       "      <th>isFlaggedFraud</th>\n",
       "      <th>type_CASH_OUT</th>\n",
       "      <th>type_PAYMENT</th>\n",
       "      <th>...</th>\n",
       "      <th>nameOrig_C1231006815</th>\n",
       "      <th>nameOrig_C1305486145</th>\n",
       "      <th>nameOrig_C1666544295</th>\n",
       "      <th>nameOrig_C2048537720</th>\n",
       "      <th>nameOrig_C840083671</th>\n",
       "      <th>nameDest_C38997010</th>\n",
       "      <th>nameDest_C553264065</th>\n",
       "      <th>nameDest_M1230701703</th>\n",
       "      <th>nameDest_M1979787155</th>\n",
       "      <th>nameDest_M2044282225</th>\n",
       "    </tr>\n",
       "  </thead>\n",
       "  <tbody>\n",
       "    <tr>\n",
       "      <th>0</th>\n",
       "      <td>1</td>\n",
       "      <td>9839.64</td>\n",
       "      <td>170136.0</td>\n",
       "      <td>160296.36</td>\n",
       "      <td>0.0</td>\n",
       "      <td>0.0</td>\n",
       "      <td>0</td>\n",
       "      <td>0</td>\n",
       "      <td>0</td>\n",
       "      <td>1</td>\n",
       "      <td>...</td>\n",
       "      <td>1</td>\n",
       "      <td>0</td>\n",
       "      <td>0</td>\n",
       "      <td>0</td>\n",
       "      <td>0</td>\n",
       "      <td>0</td>\n",
       "      <td>0</td>\n",
       "      <td>0</td>\n",
       "      <td>1</td>\n",
       "      <td>0</td>\n",
       "    </tr>\n",
       "    <tr>\n",
       "      <th>1</th>\n",
       "      <td>1</td>\n",
       "      <td>1864.28</td>\n",
       "      <td>21249.0</td>\n",
       "      <td>19384.72</td>\n",
       "      <td>0.0</td>\n",
       "      <td>0.0</td>\n",
       "      <td>0</td>\n",
       "      <td>0</td>\n",
       "      <td>0</td>\n",
       "      <td>1</td>\n",
       "      <td>...</td>\n",
       "      <td>0</td>\n",
       "      <td>0</td>\n",
       "      <td>1</td>\n",
       "      <td>0</td>\n",
       "      <td>0</td>\n",
       "      <td>0</td>\n",
       "      <td>0</td>\n",
       "      <td>0</td>\n",
       "      <td>0</td>\n",
       "      <td>1</td>\n",
       "    </tr>\n",
       "    <tr>\n",
       "      <th>2</th>\n",
       "      <td>1</td>\n",
       "      <td>181.00</td>\n",
       "      <td>181.0</td>\n",
       "      <td>0.00</td>\n",
       "      <td>0.0</td>\n",
       "      <td>0.0</td>\n",
       "      <td>1</td>\n",
       "      <td>0</td>\n",
       "      <td>0</td>\n",
       "      <td>0</td>\n",
       "      <td>...</td>\n",
       "      <td>0</td>\n",
       "      <td>1</td>\n",
       "      <td>0</td>\n",
       "      <td>0</td>\n",
       "      <td>0</td>\n",
       "      <td>0</td>\n",
       "      <td>1</td>\n",
       "      <td>0</td>\n",
       "      <td>0</td>\n",
       "      <td>0</td>\n",
       "    </tr>\n",
       "    <tr>\n",
       "      <th>3</th>\n",
       "      <td>1</td>\n",
       "      <td>181.00</td>\n",
       "      <td>181.0</td>\n",
       "      <td>0.00</td>\n",
       "      <td>21182.0</td>\n",
       "      <td>0.0</td>\n",
       "      <td>1</td>\n",
       "      <td>0</td>\n",
       "      <td>1</td>\n",
       "      <td>0</td>\n",
       "      <td>...</td>\n",
       "      <td>0</td>\n",
       "      <td>0</td>\n",
       "      <td>0</td>\n",
       "      <td>0</td>\n",
       "      <td>1</td>\n",
       "      <td>1</td>\n",
       "      <td>0</td>\n",
       "      <td>0</td>\n",
       "      <td>0</td>\n",
       "      <td>0</td>\n",
       "    </tr>\n",
       "    <tr>\n",
       "      <th>4</th>\n",
       "      <td>1</td>\n",
       "      <td>11668.14</td>\n",
       "      <td>41554.0</td>\n",
       "      <td>29885.86</td>\n",
       "      <td>0.0</td>\n",
       "      <td>0.0</td>\n",
       "      <td>0</td>\n",
       "      <td>0</td>\n",
       "      <td>0</td>\n",
       "      <td>1</td>\n",
       "      <td>...</td>\n",
       "      <td>0</td>\n",
       "      <td>0</td>\n",
       "      <td>0</td>\n",
       "      <td>1</td>\n",
       "      <td>0</td>\n",
       "      <td>0</td>\n",
       "      <td>0</td>\n",
       "      <td>1</td>\n",
       "      <td>0</td>\n",
       "      <td>0</td>\n",
       "    </tr>\n",
       "  </tbody>\n",
       "</table>\n",
       "<p>5 rows × 21 columns</p>\n",
       "</div>"
      ],
      "text/plain": [
       "   step    amount  oldbalanceOrg  newbalanceOrig  oldbalanceDest  \\\n",
       "0     1   9839.64       170136.0       160296.36             0.0   \n",
       "1     1   1864.28        21249.0        19384.72             0.0   \n",
       "2     1    181.00          181.0            0.00             0.0   \n",
       "3     1    181.00          181.0            0.00         21182.0   \n",
       "4     1  11668.14        41554.0        29885.86             0.0   \n",
       "\n",
       "   newbalanceDest  isFraud  isFlaggedFraud  type_CASH_OUT  type_PAYMENT  ...  \\\n",
       "0             0.0        0               0              0             1  ...   \n",
       "1             0.0        0               0              0             1  ...   \n",
       "2             0.0        1               0              0             0  ...   \n",
       "3             0.0        1               0              1             0  ...   \n",
       "4             0.0        0               0              0             1  ...   \n",
       "\n",
       "   nameOrig_C1231006815  nameOrig_C1305486145  nameOrig_C1666544295  \\\n",
       "0                     1                     0                     0   \n",
       "1                     0                     0                     1   \n",
       "2                     0                     1                     0   \n",
       "3                     0                     0                     0   \n",
       "4                     0                     0                     0   \n",
       "\n",
       "   nameOrig_C2048537720  nameOrig_C840083671  nameDest_C38997010  \\\n",
       "0                     0                    0                   0   \n",
       "1                     0                    0                   0   \n",
       "2                     0                    0                   0   \n",
       "3                     0                    1                   1   \n",
       "4                     1                    0                   0   \n",
       "\n",
       "   nameDest_C553264065  nameDest_M1230701703  nameDest_M1979787155  \\\n",
       "0                    0                     0                     1   \n",
       "1                    0                     0                     0   \n",
       "2                    1                     0                     0   \n",
       "3                    0                     0                     0   \n",
       "4                    0                     1                     0   \n",
       "\n",
       "   nameDest_M2044282225  \n",
       "0                     0  \n",
       "1                     1  \n",
       "2                     0  \n",
       "3                     0  \n",
       "4                     0  \n",
       "\n",
       "[5 rows x 21 columns]"
      ]
     },
     "execution_count": 27,
     "metadata": {},
     "output_type": "execute_result"
    }
   ],
   "source": [
    "#Using Get Dummies\n",
    "pd.get_dummies(df.head(),df.head().columns[df.head().dtypes == 'object'])"
   ]
  },
  {
   "cell_type": "code",
   "execution_count": 28,
   "metadata": {},
   "outputs": [
    {
     "name": "stdout",
     "output_type": "stream",
     "text": [
      "type :: ['PAYMENT' 'TRANSFER' 'CASH_OUT' 'DEBIT' 'CASH_IN']\n",
      "nameOrig :: ['C1231006815' 'C1666544295' 'C1305486145' ... 'C807582280' 'C1315779140'\n",
      " 'C515691325']\n",
      "nameDest :: ['M1979787155' 'M2044282225' 'C553264065' ... 'M1601421613' 'M524833426'\n",
      " 'M334249577']\n"
     ]
    }
   ],
   "source": [
    "for i in df.columns[df.dtypes == 'object']:\n",
    "    print(i,\"::\",df[i].unique())"
   ]
  },
  {
   "cell_type": "code",
   "execution_count": 29,
   "metadata": {},
   "outputs": [
    {
     "name": "stdout",
     "output_type": "stream",
     "text": [
      "type ::\n",
      "nameOrig ::\n",
      "nameDest ::\n"
     ]
    }
   ],
   "source": [
    "df1=df\n",
    "# Using Categorical dtypes\n",
    "for i in df.columns[df.dtypes == 'object']:\n",
    "    print(i,\"::\")\n",
    "    df1[i] = df[i].astype('category')\n",
    "    df1[i] = df[i].cat.codes"
   ]
  },
  {
   "cell_type": "code",
   "execution_count": 30,
   "metadata": {},
   "outputs": [
    {
     "data": {
      "text/html": [
       "<div>\n",
       "<style scoped>\n",
       "    .dataframe tbody tr th:only-of-type {\n",
       "        vertical-align: middle;\n",
       "    }\n",
       "\n",
       "    .dataframe tbody tr th {\n",
       "        vertical-align: top;\n",
       "    }\n",
       "\n",
       "    .dataframe thead th {\n",
       "        text-align: right;\n",
       "    }\n",
       "</style>\n",
       "<table border=\"1\" class=\"dataframe\">\n",
       "  <thead>\n",
       "    <tr style=\"text-align: right;\">\n",
       "      <th></th>\n",
       "      <th>step</th>\n",
       "      <th>type</th>\n",
       "      <th>amount</th>\n",
       "      <th>nameOrig</th>\n",
       "      <th>oldbalanceOrg</th>\n",
       "      <th>newbalanceOrig</th>\n",
       "      <th>nameDest</th>\n",
       "      <th>oldbalanceDest</th>\n",
       "      <th>newbalanceDest</th>\n",
       "      <th>isFraud</th>\n",
       "      <th>isFlaggedFraud</th>\n",
       "    </tr>\n",
       "  </thead>\n",
       "  <tbody>\n",
       "    <tr>\n",
       "      <th>0</th>\n",
       "      <td>1</td>\n",
       "      <td>3</td>\n",
       "      <td>9839.64</td>\n",
       "      <td>12031</td>\n",
       "      <td>170136.0</td>\n",
       "      <td>160296.36</td>\n",
       "      <td>32431</td>\n",
       "      <td>0.0</td>\n",
       "      <td>0.0</td>\n",
       "      <td>0</td>\n",
       "      <td>0</td>\n",
       "    </tr>\n",
       "    <tr>\n",
       "      <th>1</th>\n",
       "      <td>1</td>\n",
       "      <td>3</td>\n",
       "      <td>1864.28</td>\n",
       "      <td>34878</td>\n",
       "      <td>21249.0</td>\n",
       "      <td>19384.72</td>\n",
       "      <td>33746</td>\n",
       "      <td>0.0</td>\n",
       "      <td>0.0</td>\n",
       "      <td>0</td>\n",
       "      <td>0</td>\n",
       "    </tr>\n",
       "    <tr>\n",
       "      <th>2</th>\n",
       "      <td>1</td>\n",
       "      <td>4</td>\n",
       "      <td>181.00</td>\n",
       "      <td>15860</td>\n",
       "      <td>181.0</td>\n",
       "      <td>0.00</td>\n",
       "      <td>9437</td>\n",
       "      <td>0.0</td>\n",
       "      <td>0.0</td>\n",
       "      <td>1</td>\n",
       "      <td>0</td>\n",
       "    </tr>\n",
       "    <tr>\n",
       "      <th>3</th>\n",
       "      <td>1</td>\n",
       "      <td>1</td>\n",
       "      <td>181.00</td>\n",
       "      <td>93247</td>\n",
       "      <td>181.0</td>\n",
       "      <td>0.00</td>\n",
       "      <td>8393</td>\n",
       "      <td>21182.0</td>\n",
       "      <td>0.0</td>\n",
       "      <td>1</td>\n",
       "      <td>0</td>\n",
       "    </tr>\n",
       "    <tr>\n",
       "      <th>4</th>\n",
       "      <td>1</td>\n",
       "      <td>3</td>\n",
       "      <td>11668.14</td>\n",
       "      <td>54896</td>\n",
       "      <td>41554.0</td>\n",
       "      <td>29885.86</td>\n",
       "      <td>16923</td>\n",
       "      <td>0.0</td>\n",
       "      <td>0.0</td>\n",
       "      <td>0</td>\n",
       "      <td>0</td>\n",
       "    </tr>\n",
       "  </tbody>\n",
       "</table>\n",
       "</div>"
      ],
      "text/plain": [
       "   step  type    amount  nameOrig  oldbalanceOrg  newbalanceOrig  nameDest  \\\n",
       "0     1     3   9839.64     12031       170136.0       160296.36     32431   \n",
       "1     1     3   1864.28     34878        21249.0        19384.72     33746   \n",
       "2     1     4    181.00     15860          181.0            0.00      9437   \n",
       "3     1     1    181.00     93247          181.0            0.00      8393   \n",
       "4     1     3  11668.14     54896        41554.0        29885.86     16923   \n",
       "\n",
       "   oldbalanceDest  newbalanceDest  isFraud  isFlaggedFraud  \n",
       "0             0.0             0.0        0               0  \n",
       "1             0.0             0.0        0               0  \n",
       "2             0.0             0.0        1               0  \n",
       "3         21182.0             0.0        1               0  \n",
       "4             0.0             0.0        0               0  "
      ]
     },
     "execution_count": 30,
     "metadata": {},
     "output_type": "execute_result"
    }
   ],
   "source": [
    "df1.head()"
   ]
  },
  {
   "cell_type": "code",
   "execution_count": 31,
   "metadata": {},
   "outputs": [
    {
     "data": {
      "text/plain": [
       "(101613, 11)"
      ]
     },
     "execution_count": 31,
     "metadata": {},
     "output_type": "execute_result"
    }
   ],
   "source": [
    "df1.shape"
   ]
  },
  {
   "cell_type": "code",
   "execution_count": 43,
   "metadata": {},
   "outputs": [],
   "source": [
    "X = df1[['type','amount','oldbalanceOrg','newbalanceOrig']]"
   ]
  },
  {
   "cell_type": "code",
   "execution_count": 44,
   "metadata": {},
   "outputs": [],
   "source": [
    "y= df['isFraud']"
   ]
  },
  {
   "cell_type": "code",
   "execution_count": 45,
   "metadata": {},
   "outputs": [
    {
     "data": {
      "text/html": [
       "<div>\n",
       "<style scoped>\n",
       "    .dataframe tbody tr th:only-of-type {\n",
       "        vertical-align: middle;\n",
       "    }\n",
       "\n",
       "    .dataframe tbody tr th {\n",
       "        vertical-align: top;\n",
       "    }\n",
       "\n",
       "    .dataframe thead th {\n",
       "        text-align: right;\n",
       "    }\n",
       "</style>\n",
       "<table border=\"1\" class=\"dataframe\">\n",
       "  <thead>\n",
       "    <tr style=\"text-align: right;\">\n",
       "      <th></th>\n",
       "      <th>type</th>\n",
       "      <th>amount</th>\n",
       "      <th>oldbalanceOrg</th>\n",
       "      <th>newbalanceOrig</th>\n",
       "    </tr>\n",
       "  </thead>\n",
       "  <tbody>\n",
       "    <tr>\n",
       "      <th>0</th>\n",
       "      <td>3</td>\n",
       "      <td>9839.64</td>\n",
       "      <td>170136.0</td>\n",
       "      <td>160296.36</td>\n",
       "    </tr>\n",
       "    <tr>\n",
       "      <th>1</th>\n",
       "      <td>3</td>\n",
       "      <td>1864.28</td>\n",
       "      <td>21249.0</td>\n",
       "      <td>19384.72</td>\n",
       "    </tr>\n",
       "    <tr>\n",
       "      <th>2</th>\n",
       "      <td>4</td>\n",
       "      <td>181.00</td>\n",
       "      <td>181.0</td>\n",
       "      <td>0.00</td>\n",
       "    </tr>\n",
       "    <tr>\n",
       "      <th>3</th>\n",
       "      <td>1</td>\n",
       "      <td>181.00</td>\n",
       "      <td>181.0</td>\n",
       "      <td>0.00</td>\n",
       "    </tr>\n",
       "    <tr>\n",
       "      <th>4</th>\n",
       "      <td>3</td>\n",
       "      <td>11668.14</td>\n",
       "      <td>41554.0</td>\n",
       "      <td>29885.86</td>\n",
       "    </tr>\n",
       "  </tbody>\n",
       "</table>\n",
       "</div>"
      ],
      "text/plain": [
       "   type    amount  oldbalanceOrg  newbalanceOrig\n",
       "0     3   9839.64       170136.0       160296.36\n",
       "1     3   1864.28        21249.0        19384.72\n",
       "2     4    181.00          181.0            0.00\n",
       "3     1    181.00          181.0            0.00\n",
       "4     3  11668.14        41554.0        29885.86"
      ]
     },
     "execution_count": 45,
     "metadata": {},
     "output_type": "execute_result"
    }
   ],
   "source": [
    "X.head()"
   ]
  },
  {
   "cell_type": "code",
   "execution_count": 46,
   "metadata": {},
   "outputs": [
    {
     "data": {
      "text/plain": [
       "0    0\n",
       "1    0\n",
       "2    1\n",
       "3    1\n",
       "4    0\n",
       "Name: isFraud, dtype: int64"
      ]
     },
     "execution_count": 46,
     "metadata": {},
     "output_type": "execute_result"
    }
   ],
   "source": [
    "y.head()"
   ]
  },
  {
   "cell_type": "markdown",
   "metadata": {},
   "source": [
    "# **Model Building**"
   ]
  },
  {
   "cell_type": "code",
   "execution_count": 37,
   "metadata": {},
   "outputs": [
    {
     "name": "stderr",
     "output_type": "stream",
     "text": [
      "Intel(R) Extension for Scikit-learn* enabled (https://github.com/intel/scikit-learn-intelex)\n"
     ]
    }
   ],
   "source": [
    "from sklearn.model_selection import train_test_split"
   ]
  },
  {
   "cell_type": "code",
   "execution_count": 38,
   "metadata": {},
   "outputs": [],
   "source": [
    "X_train,X_test,y_train,y_test = train_test_split(X,y,test_size=0.2,random_state=2)"
   ]
  },
  {
   "cell_type": "code",
   "execution_count": 39,
   "metadata": {},
   "outputs": [],
   "source": [
    "\n",
    "from sklearn.metrics import accuracy_score,confusion_matrix,precision_score\n",
    "import time"
   ]
  },
  {
   "cell_type": "code",
   "execution_count": 40,
   "metadata": {},
   "outputs": [
    {
     "name": "stdout",
     "output_type": "stream",
     "text": [
      "Scikit-learn was successfully globally patched by Intel(R) Extension for Scikit-learn\n"
     ]
    },
    {
     "name": "stderr",
     "output_type": "stream",
     "text": [
      "Intel(R) Extension for Scikit-learn* enabled (https://github.com/intel/scikit-learn-intelex)\n"
     ]
    }
   ],
   "source": [
    "#importing all libraries\n",
    "\n",
    "from sklearn.ensemble import RandomForestClassifier\n",
    "from sklearnex import patch_sklearn\n",
    "patch_sklearn(global_patch=True)\n",
    "import sklearn\n"
   ]
  },
  {
   "cell_type": "code",
   "execution_count": 41,
   "metadata": {},
   "outputs": [],
   "source": [
    "clf= RandomForestClassifier(n_estimators=100, criterion='gini', max_depth=None, min_samples_split=2, min_samples_leaf=1, max_features='auto', bootstrap=True, random_state=0, verbose=0)"
   ]
  },
  {
   "cell_type": "code",
   "execution_count": 47,
   "metadata": {},
   "outputs": [
    {
     "name": "stderr",
     "output_type": "stream",
     "text": [
      "C:\\Users\\Soumyadeep\\anaconda3\\envs\\inteloneapi\\lib\\site-packages\\daal4py\\sklearn\\ensemble\\_forest.py:57: FutureWarning: `max_features='auto'` has been deprecated in 1.1 and will be removed in 1.3. To keep the past behaviour, explicitly set `max_features=1.0` or remove this parameter as it is also the default value for RandomForestRegressors and ExtraTreesRegressors.\n",
      "  warnings.warn(\n"
     ]
    },
    {
     "name": "stdout",
     "output_type": "stream",
     "text": [
      "0.9991143039905526\n",
      "1.0\n",
      "Execution time: 1.7960 seconds\n"
     ]
    }
   ],
   "source": [
    "start_time = time.time()\n",
    "\n",
    "clf.fit(X_train,y_train)\n",
    "y_pred = clf.predict(X_test)\n",
    "accuracy = accuracy_score(y_test,y_pred)\n",
    "precision = precision_score(y_test,y_pred)\n",
    "print(accuracy)\n",
    "print(precision)\n",
    "end_time = time.time()\n",
    "print(f\"Execution time: {end_time - start_time:.4f} seconds\")"
   ]
  },
  {
   "cell_type": "markdown",
   "metadata": {},
   "source": [
    "# import imblearn to perform under sampling"
   ]
  },
  {
   "cell_type": "code",
   "execution_count": 48,
   "metadata": {},
   "outputs": [
    {
     "name": "stdout",
     "output_type": "stream",
     "text": [
      "Collecting imbalanced-learn\n",
      "  Downloading imbalanced_learn-0.10.1-py3-none-any.whl (226 kB)\n",
      "     ---------------------------------------- 0.0/226.0 kB ? eta -:--:--\n",
      "     ---------- ---------------------------- 61.4/226.0 kB 1.6 MB/s eta 0:00:01\n",
      "     -------------------------------------  225.3/226.0 kB 2.7 MB/s eta 0:00:01\n",
      "     -------------------------------------- 226.0/226.0 kB 2.3 MB/s eta 0:00:00\n",
      "Requirement already satisfied: threadpoolctl>=2.0.0 in c:\\users\\soumyadeep\\anaconda3\\envs\\inteloneapi\\lib\\site-packages (from imbalanced-learn) (3.1.0)\n",
      "Requirement already satisfied: joblib>=1.1.1 in c:\\users\\soumyadeep\\anaconda3\\envs\\inteloneapi\\lib\\site-packages (from imbalanced-learn) (1.2.0)\n",
      "Requirement already satisfied: scikit-learn>=1.0.2 in c:\\users\\soumyadeep\\anaconda3\\envs\\inteloneapi\\lib\\site-packages (from imbalanced-learn) (1.2.1)\n",
      "Requirement already satisfied: scipy>=1.3.2 in c:\\users\\soumyadeep\\anaconda3\\envs\\inteloneapi\\lib\\site-packages (from imbalanced-learn) (1.8.1)\n",
      "Requirement already satisfied: numpy>=1.17.3 in c:\\users\\soumyadeep\\anaconda3\\envs\\inteloneapi\\lib\\site-packages (from imbalanced-learn) (1.22.3)\n",
      "Installing collected packages: imbalanced-learn\n",
      "Successfully installed imbalanced-learn-0.10.1\n"
     ]
    }
   ],
   "source": [
    "!pip install imbalanced-learn"
   ]
  },
  {
   "cell_type": "markdown",
   "metadata": {},
   "source": [
    "# performing Under Sampling : NearMiss "
   ]
  },
  {
   "cell_type": "code",
   "execution_count": 49,
   "metadata": {},
   "outputs": [
    {
     "data": {
      "text/plain": [
       "Counter({0: 81197, 1: 93})"
      ]
     },
     "execution_count": 49,
     "metadata": {},
     "output_type": "execute_result"
    }
   ],
   "source": [
    "from collections import Counter\n",
    "Counter(y_train)"
   ]
  },
  {
   "cell_type": "code",
   "execution_count": 53,
   "metadata": {},
   "outputs": [
    {
     "name": "stdout",
     "output_type": "stream",
     "text": [
      "Requirement already satisfied: pip in c:\\users\\soumyadeep\\anaconda3\\envs\\inteloneapi\\lib\\site-packages (23.0.1)\n",
      "Collecting pip\n",
      "  Downloading pip-23.1.2-py3-none-any.whl (2.1 MB)\n",
      "     ---------------------------------------- 0.0/2.1 MB ? eta -:--:--\n",
      "     - -------------------------------------- 0.1/2.1 MB 1.7 MB/s eta 0:00:02\n",
      "     - -------------------------------------- 0.1/2.1 MB 1.3 MB/s eta 0:00:02\n",
      "     --- ------------------------------------ 0.2/2.1 MB 1.3 MB/s eta 0:00:02\n",
      "     ---- ----------------------------------- 0.2/2.1 MB 1.4 MB/s eta 0:00:02\n",
      "     ----- ---------------------------------- 0.3/2.1 MB 1.3 MB/s eta 0:00:02\n",
      "     ------- -------------------------------- 0.4/2.1 MB 1.4 MB/s eta 0:00:02\n",
      "     -------- ------------------------------- 0.5/2.1 MB 1.3 MB/s eta 0:00:02\n",
      "     --------- ------------------------------ 0.5/2.1 MB 1.3 MB/s eta 0:00:02\n",
      "     ----------- ---------------------------- 0.6/2.1 MB 1.4 MB/s eta 0:00:02\n",
      "     ------------ --------------------------- 0.6/2.1 MB 1.4 MB/s eta 0:00:02\n",
      "     ------------ --------------------------- 0.7/2.1 MB 1.4 MB/s eta 0:00:02\n",
      "     ------------ --------------------------- 0.7/2.1 MB 1.4 MB/s eta 0:00:02\n",
      "     ------------ --------------------------- 0.7/2.1 MB 1.4 MB/s eta 0:00:02\n",
      "     ------------ --------------------------- 0.7/2.1 MB 1.4 MB/s eta 0:00:02\n",
      "     ------------- -------------------------- 0.7/2.1 MB 1.0 MB/s eta 0:00:02\n",
      "     --------------- ------------------------ 0.8/2.1 MB 1.0 MB/s eta 0:00:02\n",
      "     --------------- ------------------------ 0.8/2.1 MB 1.0 MB/s eta 0:00:02\n",
      "     ----------------- ---------------------- 0.9/2.1 MB 1.0 MB/s eta 0:00:02\n",
      "     ------------------ --------------------- 0.9/2.1 MB 1.0 MB/s eta 0:00:02\n",
      "     ------------------- -------------------- 1.0/2.1 MB 1.0 MB/s eta 0:00:02\n",
      "     -------------------- ------------------- 1.1/2.1 MB 1.0 MB/s eta 0:00:01\n",
      "     ---------------------- ----------------- 1.1/2.1 MB 1.1 MB/s eta 0:00:01\n",
      "     ----------------------- ---------------- 1.2/2.1 MB 1.1 MB/s eta 0:00:01\n",
      "     ------------------------- -------------- 1.3/2.1 MB 1.1 MB/s eta 0:00:01\n",
      "     -------------------------- ------------- 1.4/2.1 MB 1.1 MB/s eta 0:00:01\n",
      "     ---------------------------- ----------- 1.5/2.1 MB 1.1 MB/s eta 0:00:01\n",
      "     ------------------------------ --------- 1.6/2.1 MB 1.1 MB/s eta 0:00:01\n",
      "     -------------------------------- ------- 1.7/2.1 MB 1.2 MB/s eta 0:00:01\n",
      "     --------------------------------- ------ 1.7/2.1 MB 1.2 MB/s eta 0:00:01\n",
      "     ----------------------------------- ---- 1.8/2.1 MB 1.2 MB/s eta 0:00:01\n",
      "     ------------------------------------- -- 1.9/2.1 MB 1.2 MB/s eta 0:00:01\n",
      "     -------------------------------------- - 2.0/2.1 MB 1.2 MB/s eta 0:00:01\n",
      "     ---------------------------------------  2.0/2.1 MB 1.2 MB/s eta 0:00:01\n",
      "     ---------------------------------------  2.1/2.1 MB 1.2 MB/s eta 0:00:01\n",
      "     ---------------------------------------- 2.1/2.1 MB 1.2 MB/s eta 0:00:00\n"
     ]
    },
    {
     "name": "stderr",
     "output_type": "stream",
     "text": [
      "ERROR: To modify pip, please run the following command:\n",
      "C:\\Users\\Soumyadeep\\anaconda3\\envs\\inteloneapi\\python.exe -m pip install --upgrade pip\n"
     ]
    }
   ],
   "source": [
    "!pip install --upgrade pip\n"
   ]
  },
  {
   "cell_type": "code",
   "execution_count": 57,
   "metadata": {},
   "outputs": [
    {
     "name": "stdout",
     "output_type": "stream",
     "text": [
      "Requirement already satisfied: imbalanced-learn in c:\\users\\soumyadeep\\anaconda3\\envs\\inteloneapi\\lib\\site-packages (0.10.1)\n",
      "Requirement already satisfied: scipy>=1.3.2 in c:\\users\\soumyadeep\\anaconda3\\envs\\inteloneapi\\lib\\site-packages (from imbalanced-learn) (1.8.1)\n",
      "Requirement already satisfied: scikit-learn>=1.0.2 in c:\\users\\soumyadeep\\anaconda3\\envs\\inteloneapi\\lib\\site-packages (from imbalanced-learn) (1.2.1)\n",
      "Requirement already satisfied: joblib>=1.1.1 in c:\\users\\soumyadeep\\anaconda3\\envs\\inteloneapi\\lib\\site-packages (from imbalanced-learn) (1.2.0)\n",
      "Requirement already satisfied: threadpoolctl>=2.0.0 in c:\\users\\soumyadeep\\anaconda3\\envs\\inteloneapi\\lib\\site-packages (from imbalanced-learn) (3.1.0)\n",
      "Requirement already satisfied: numpy>=1.17.3 in c:\\users\\soumyadeep\\anaconda3\\envs\\inteloneapi\\lib\\site-packages (from imbalanced-learn) (1.22.3)\n"
     ]
    }
   ],
   "source": [
    "!pip install -U imbalanced-learn\n"
   ]
  },
  {
   "cell_type": "code",
   "execution_count": 60,
   "metadata": {},
   "outputs": [],
   "source": [
    "from collections import Counter\n",
    "from imblearn.under_sampling import NearMiss\n",
    "ns = NearMiss(version=1, n_neighbors=3)\n",
    "X_train_ns,y_train_ns=ns.fit_resample(X_train,y_train)"
   ]
  },
  {
   "cell_type": "code",
   "execution_count": 61,
   "metadata": {},
   "outputs": [
    {
     "data": {
      "text/plain": [
       "Counter({0: 93, 1: 93})"
      ]
     },
     "execution_count": 61,
     "metadata": {},
     "output_type": "execute_result"
    }
   ],
   "source": [
    "Counter(y_train_ns)"
   ]
  },
  {
   "cell_type": "code",
   "execution_count": 62,
   "metadata": {},
   "outputs": [
    {
     "name": "stdout",
     "output_type": "stream",
     "text": [
      "0.3959061162229986\n",
      "0.0018699186991869919\n",
      "Execution time: 0.1733 seconds\n"
     ]
    },
    {
     "name": "stderr",
     "output_type": "stream",
     "text": [
      "C:\\Users\\Soumyadeep\\anaconda3\\envs\\inteloneapi\\lib\\site-packages\\daal4py\\sklearn\\ensemble\\_forest.py:57: FutureWarning: `max_features='auto'` has been deprecated in 1.1 and will be removed in 1.3. To keep the past behaviour, explicitly set `max_features=1.0` or remove this parameter as it is also the default value for RandomForestRegressors and ExtraTreesRegressors.\n",
      "  warnings.warn(\n"
     ]
    }
   ],
   "source": [
    "start_time = time.time()\n",
    "\n",
    "clf.fit(X_train_ns,y_train_ns)\n",
    "y_pred = clf.predict(X_test)\n",
    "accuracy = accuracy_score(y_test,y_pred)\n",
    "precision = precision_score(y_test,y_pred)\n",
    "print(accuracy)\n",
    "print(precision)\n",
    "end_time = time.time()\n",
    "print(f\"Execution time: {end_time - start_time:.4f} seconds\")"
   ]
  },
  {
   "cell_type": "code",
   "execution_count": 64,
   "metadata": {},
   "outputs": [
    {
     "data": {
      "image/png": "[encoded data removed]",
      "text/plain": [
       "<Figure size 800x600 with 2 Axes>"
      ]
     },
     "metadata": {},
     "output_type": "display_data"
    }
   ],
   "source": [
    "from sklearn.metrics import confusion_matrix\n",
    "import pandas as pd\n",
    "import matplotlib.pyplot as plt\n",
    "import seaborn as sns\n",
    "\n",
    "cm = confusion_matrix(y_test, y_pred)\n",
    "conf_matrix = pd.DataFrame(data=cm, columns=['Predicted:0', 'Predicted:1'], index=['Actual:0', 'Actual:1'])\n",
    "plt.figure(figsize=(8, 6))\n",
    "sns.heatmap(conf_matrix, annot=True, fmt='d', cmap='YlGnBu')\n",
    "plt.show()\n"
   ]
  },
  {
   "cell_type": "code",
   "execution_count": 65,
   "metadata": {},
   "outputs": [
    {
     "name": "stdout",
     "output_type": "stream",
     "text": [
      "Collecting catboost\n",
      "  Downloading catboost-1.2-cp38-cp38-win_amd64.whl (101.0 MB)\n",
      "     ---------------------------------------- 0.0/101.0 MB ? eta -:--:--\n",
      "     ---------------------------------------- 0.0/101.0 MB ? eta -:--:--\n",
      "     ---------------------------------------- 0.0/101.0 MB ? eta -:--:--\n",
      "     ---------------------------------------- 0.0/101.0 MB ? eta -:--:--\n",
      "     -------------------------------------- 0.0/101.0 MB 220.2 kB/s eta 0:07:39\n",
      "     -------------------------------------- 0.0/101.0 MB 220.2 kB/s eta 0:07:39\n",
      "     -------------------------------------- 0.0/101.0 MB 164.3 kB/s eta 0:10:15\n",
      "     -------------------------------------- 0.1/101.0 MB 309.1 kB/s eta 0:05:27\n",
      "     -------------------------------------- 0.1/101.0 MB 344.8 kB/s eta 0:04:53\n",
      "     -------------------------------------- 0.1/101.0 MB 344.8 kB/s eta 0:04:53\n",
      "     -------------------------------------- 0.1/101.0 MB 313.8 kB/s eta 0:05:22\n",
      "     -------------------------------------- 0.3/101.0 MB 609.2 kB/s eta 0:02:46\n",
      "     -------------------------------------- 0.3/101.0 MB 571.2 kB/s eta 0:02:57\n",
      "     ---------------------------------------- 0.6/101.0 MB 1.0 MB/s eta 0:01:39\n",
      "     ---------------------------------------- 0.8/101.0 MB 1.4 MB/s eta 0:01:11\n",
      "     ---------------------------------------- 0.9/101.0 MB 1.4 MB/s eta 0:01:10\n",
      "     ---------------------------------------- 0.9/101.0 MB 1.4 MB/s eta 0:01:11\n",
      "     ---------------------------------------- 1.0/101.0 MB 1.4 MB/s eta 0:01:12\n",
      "     ---------------------------------------- 1.1/101.0 MB 1.4 MB/s eta 0:01:13\n",
      "     ---------------------------------------- 1.2/101.0 MB 1.5 MB/s eta 0:01:06\n",
      "     ---------------------------------------- 1.2/101.0 MB 1.5 MB/s eta 0:01:06\n",
      "      --------------------------------------- 1.4/101.0 MB 1.5 MB/s eta 0:01:06\n",
      "      --------------------------------------- 1.5/101.0 MB 1.5 MB/s eta 0:01:06\n",
      "      --------------------------------------- 1.5/101.0 MB 1.5 MB/s eta 0:01:07\n",
      "      --------------------------------------- 1.7/101.0 MB 1.6 MB/s eta 0:01:02\n",
      "      --------------------------------------- 1.9/101.0 MB 1.7 MB/s eta 0:00:59\n",
      "      --------------------------------------- 1.9/101.0 MB 1.6 MB/s eta 0:01:01\n",
      "      --------------------------------------- 1.9/101.0 MB 1.6 MB/s eta 0:01:02\n",
      "      --------------------------------------- 2.2/101.0 MB 1.8 MB/s eta 0:00:57\n",
      "      --------------------------------------- 2.2/101.0 MB 1.8 MB/s eta 0:00:57\n",
      "     - -------------------------------------- 2.5/101.0 MB 1.9 MB/s eta 0:00:53\n",
      "     - -------------------------------------- 2.6/101.0 MB 1.8 MB/s eta 0:00:54\n",
      "     - -------------------------------------- 2.9/101.0 MB 2.0 MB/s eta 0:00:49\n",
      "     - -------------------------------------- 3.0/101.0 MB 2.0 MB/s eta 0:00:49\n",
      "     - -------------------------------------- 3.4/101.0 MB 2.2 MB/s eta 0:00:44\n",
      "     - -------------------------------------- 3.9/101.0 MB 2.4 MB/s eta 0:00:40\n",
      "     - -------------------------------------- 4.3/101.0 MB 2.6 MB/s eta 0:00:38\n",
      "     - -------------------------------------- 4.8/101.0 MB 2.9 MB/s eta 0:00:34\n",
      "     -- ------------------------------------- 5.3/101.0 MB 3.1 MB/s eta 0:00:32\n",
      "     -- ------------------------------------- 5.7/101.0 MB 3.2 MB/s eta 0:00:30\n",
      "     -- ------------------------------------- 6.0/101.0 MB 3.3 MB/s eta 0:00:29\n",
      "     -- ------------------------------------- 6.6/101.0 MB 3.5 MB/s eta 0:00:27\n",
      "     -- ------------------------------------- 7.1/101.0 MB 3.7 MB/s eta 0:00:26\n",
      "     --- ------------------------------------ 7.7/101.0 MB 3.9 MB/s eta 0:00:24\n",
      "     --- ------------------------------------ 8.1/101.0 MB 4.0 MB/s eta 0:00:24\n",
      "     --- ------------------------------------ 8.7/101.0 MB 4.2 MB/s eta 0:00:22\n",
      "     --- ------------------------------------ 8.8/101.0 MB 4.2 MB/s eta 0:00:22\n",
      "     --- ------------------------------------ 9.0/101.0 MB 4.2 MB/s eta 0:00:22\n",
      "     --- ------------------------------------ 9.0/101.0 MB 4.2 MB/s eta 0:00:22\n",
      "     --- ------------------------------------ 9.0/101.0 MB 4.2 MB/s eta 0:00:22\n",
      "     --- ------------------------------------ 9.0/101.0 MB 4.2 MB/s eta 0:00:22\n",
      "     --- ------------------------------------ 9.0/101.0 MB 4.2 MB/s eta 0:00:22\n",
      "     --- ------------------------------------ 9.4/101.0 MB 3.9 MB/s eta 0:00:24\n",
      "     --- ------------------------------------ 9.7/101.0 MB 4.0 MB/s eta 0:00:23\n",
      "     --- ------------------------------------ 9.9/101.0 MB 4.0 MB/s eta 0:00:23\n",
      "     ---- ---------------------------------- 10.5/101.0 MB 5.0 MB/s eta 0:00:18\n",
      "     ---- ---------------------------------- 11.1/101.0 MB 5.2 MB/s eta 0:00:18\n",
      "     ---- ---------------------------------- 11.6/101.0 MB 5.9 MB/s eta 0:00:16\n",
      "     ---- ---------------------------------- 12.1/101.0 MB 6.7 MB/s eta 0:00:14\n",
      "     ---- ---------------------------------- 12.7/101.0 MB 7.4 MB/s eta 0:00:13\n",
      "     ----- --------------------------------- 13.0/101.0 MB 7.6 MB/s eta 0:00:12\n",
      "     ----- --------------------------------- 13.5/101.0 MB 7.8 MB/s eta 0:00:12\n",
      "     ----- --------------------------------- 13.8/101.0 MB 7.8 MB/s eta 0:00:12\n",
      "     ----- --------------------------------- 14.0/101.0 MB 7.7 MB/s eta 0:00:12\n",
      "     ----- --------------------------------- 14.4/101.0 MB 7.7 MB/s eta 0:00:12\n",
      "     ----- --------------------------------- 14.9/101.0 MB 7.7 MB/s eta 0:00:12\n",
      "     ----- --------------------------------- 15.4/101.0 MB 7.7 MB/s eta 0:00:12\n",
      "     ------ -------------------------------- 15.8/101.0 MB 7.7 MB/s eta 0:00:12\n",
      "     ------ -------------------------------- 16.3/101.0 MB 7.8 MB/s eta 0:00:11\n",
      "     ------ -------------------------------- 16.9/101.0 MB 7.8 MB/s eta 0:00:11\n",
      "     ------ -------------------------------- 17.5/101.0 MB 7.8 MB/s eta 0:00:11\n",
      "     ------ -------------------------------- 18.1/101.0 MB 7.8 MB/s eta 0:00:11\n",
      "     ------- ------------------------------- 18.8/101.0 MB 7.8 MB/s eta 0:00:11\n",
      "     ------- ------------------------------- 19.3/101.0 MB 9.9 MB/s eta 0:00:09\n",
      "     ------- ------------------------------ 20.0/101.0 MB 10.4 MB/s eta 0:00:08\n",
      "     ------- ------------------------------ 20.6/101.0 MB 10.4 MB/s eta 0:00:08\n",
      "     ------- ------------------------------ 21.1/101.0 MB 10.4 MB/s eta 0:00:08\n",
      "     -------- ----------------------------- 21.7/101.0 MB 10.6 MB/s eta 0:00:08\n",
      "     -------- ----------------------------- 22.3/101.0 MB 10.6 MB/s eta 0:00:08\n",
      "     -------- ----------------------------- 22.8/101.0 MB 10.4 MB/s eta 0:00:08\n",
      "     -------- ----------------------------- 23.3/101.0 MB 11.1 MB/s eta 0:00:08\n",
      "     --------- ---------------------------- 24.0/101.0 MB 10.9 MB/s eta 0:00:08\n",
      "     --------- ---------------------------- 24.5/101.0 MB 11.3 MB/s eta 0:00:07\n",
      "     --------- ---------------------------- 25.2/101.0 MB 11.5 MB/s eta 0:00:07\n",
      "     --------- ---------------------------- 25.7/101.0 MB 11.7 MB/s eta 0:00:07\n",
      "     --------- ---------------------------- 26.1/101.0 MB 11.7 MB/s eta 0:00:07\n",
      "     --------- ---------------------------- 26.5/101.0 MB 11.5 MB/s eta 0:00:07\n",
      "     --------- ---------------------------- 26.5/101.0 MB 11.5 MB/s eta 0:00:07\n",
      "     --------- ---------------------------- 26.5/101.0 MB 10.4 MB/s eta 0:00:08\n",
      "     --------- ---------------------------- 26.5/101.0 MB 10.4 MB/s eta 0:00:08\n",
      "     --------- ---------------------------- 26.5/101.0 MB 10.4 MB/s eta 0:00:08\n",
      "     --------- ---------------------------- 26.5/101.0 MB 10.4 MB/s eta 0:00:08\n",
      "     --------- ---------------------------- 26.5/101.0 MB 10.4 MB/s eta 0:00:08\n",
      "     --------- ---------------------------- 26.5/101.0 MB 10.4 MB/s eta 0:00:08\n",
      "     ---------- ---------------------------- 26.6/101.0 MB 7.9 MB/s eta 0:00:10\n",
      "     ---------- ---------------------------- 26.9/101.0 MB 7.8 MB/s eta 0:00:10\n",
      "     ---------- ---------------------------- 27.4/101.0 MB 7.8 MB/s eta 0:00:10\n",
      "     ---------- ---------------------------- 28.0/101.0 MB 7.9 MB/s eta 0:00:10\n",
      "     ----------- --------------------------- 28.6/101.0 MB 7.9 MB/s eta 0:00:10\n",
      "     ----------- --------------------------- 29.2/101.0 MB 7.9 MB/s eta 0:00:10\n",
      "     ----------- --------------------------- 29.6/101.0 MB 7.9 MB/s eta 0:00:10\n",
      "     ----------- --------------------------- 29.7/101.0 MB 7.6 MB/s eta 0:00:10\n",
      "     ----------- --------------------------- 29.7/101.0 MB 7.5 MB/s eta 0:00:10\n",
      "     ----------- --------------------------- 29.8/101.0 MB 7.0 MB/s eta 0:00:11\n",
      "     ----------- --------------------------- 29.8/101.0 MB 7.0 MB/s eta 0:00:11\n",
      "     ----------- --------------------------- 29.8/101.0 MB 7.0 MB/s eta 0:00:11\n",
      "     ----------- --------------------------- 30.0/101.0 MB 6.5 MB/s eta 0:00:11\n",
      "     ----------- --------------------------- 30.9/101.0 MB 6.6 MB/s eta 0:00:11\n",
      "     ----------- --------------------------- 31.0/101.0 MB 6.5 MB/s eta 0:00:11\n",
      "     ----------- --------------------------- 31.1/101.0 MB 6.4 MB/s eta 0:00:11\n",
      "     ------------ -------------------------- 31.1/101.0 MB 6.2 MB/s eta 0:00:12\n",
      "     ------------ -------------------------- 31.4/101.0 MB 6.1 MB/s eta 0:00:12\n",
      "     ------------ -------------------------- 31.5/101.0 MB 5.9 MB/s eta 0:00:12\n",
      "     ------------ -------------------------- 31.6/101.0 MB 5.7 MB/s eta 0:00:13\n",
      "     ------------ -------------------------- 31.8/101.0 MB 5.6 MB/s eta 0:00:13\n",
      "     ------------ -------------------------- 32.2/101.0 MB 5.6 MB/s eta 0:00:13\n",
      "     ------------ -------------------------- 32.2/101.0 MB 5.6 MB/s eta 0:00:13\n",
      "     ------------ -------------------------- 32.3/101.0 MB 5.4 MB/s eta 0:00:13\n",
      "     ------------ -------------------------- 32.3/101.0 MB 5.3 MB/s eta 0:00:14\n",
      "     ------------ -------------------------- 32.8/101.0 MB 5.2 MB/s eta 0:00:14\n",
      "     ------------ -------------------------- 32.8/101.0 MB 5.2 MB/s eta 0:00:14\n",
      "     ------------ -------------------------- 32.8/101.0 MB 5.2 MB/s eta 0:00:14\n",
      "     ------------ -------------------------- 33.4/101.0 MB 5.0 MB/s eta 0:00:14\n",
      "     ------------ -------------------------- 33.7/101.0 MB 5.0 MB/s eta 0:00:14\n",
      "     ------------- ------------------------- 33.7/101.0 MB 4.8 MB/s eta 0:00:14\n",
      "     ------------- ------------------------- 33.8/101.0 MB 4.7 MB/s eta 0:00:15\n",
      "     ------------- ------------------------- 34.2/101.0 MB 4.7 MB/s eta 0:00:15\n",
      "     ------------- ------------------------- 34.3/101.0 MB 4.7 MB/s eta 0:00:15\n",
      "     ------------- ------------------------- 34.3/101.0 MB 4.7 MB/s eta 0:00:15\n",
      "     ------------- ------------------------- 34.4/101.0 MB 4.4 MB/s eta 0:00:16\n",
      "     ------------- ------------------------- 34.5/101.0 MB 4.4 MB/s eta 0:00:16\n",
      "     ------------- ------------------------- 34.6/101.0 MB 4.3 MB/s eta 0:00:16\n",
      "     ------------- ------------------------- 34.6/101.0 MB 4.3 MB/s eta 0:00:16\n",
      "     ------------- ------------------------- 34.9/101.0 MB 4.1 MB/s eta 0:00:17\n",
      "     ------------- ------------------------- 34.9/101.0 MB 4.0 MB/s eta 0:00:17\n",
      "     ------------- ------------------------- 35.0/101.0 MB 3.9 MB/s eta 0:00:17\n",
      "     ------------- ------------------------- 35.6/101.0 MB 3.9 MB/s eta 0:00:17\n",
      "     ------------- ------------------------- 35.9/101.0 MB 3.9 MB/s eta 0:00:17\n",
      "     -------------- ------------------------ 36.5/101.0 MB 3.9 MB/s eta 0:00:17\n",
      "     -------------- ------------------------ 36.6/101.0 MB 3.9 MB/s eta 0:00:17\n",
      "     -------------- ------------------------ 37.1/101.0 MB 4.6 MB/s eta 0:00:14\n",
      "     -------------- ------------------------ 37.7/101.0 MB 4.6 MB/s eta 0:00:14\n",
      "     -------------- ------------------------ 38.2/101.0 MB 4.6 MB/s eta 0:00:14\n",
      "     -------------- ------------------------ 38.8/101.0 MB 4.6 MB/s eta 0:00:14\n",
      "     --------------- ----------------------- 39.4/101.0 MB 4.6 MB/s eta 0:00:14\n",
      "     --------------- ----------------------- 40.0/101.0 MB 4.7 MB/s eta 0:00:13\n",
      "     --------------- ----------------------- 40.6/101.0 MB 5.2 MB/s eta 0:00:12\n",
      "     --------------- ----------------------- 41.2/101.0 MB 5.2 MB/s eta 0:00:12\n",
      "     ---------------- ---------------------- 41.7/101.0 MB 5.8 MB/s eta 0:00:11\n",
      "     ---------------- ---------------------- 42.3/101.0 MB 6.0 MB/s eta 0:00:10\n",
      "     ---------------- ---------------------- 42.9/101.0 MB 6.6 MB/s eta 0:00:09\n",
      "     ---------------- ---------------------- 43.4/101.0 MB 7.0 MB/s eta 0:00:09\n",
      "     ---------------- ---------------------- 43.9/101.0 MB 7.0 MB/s eta 0:00:09\n",
      "     ----------------- --------------------- 44.5/101.0 MB 8.5 MB/s eta 0:00:07\n",
      "     ----------------- --------------------- 45.0/101.0 MB 9.8 MB/s eta 0:00:06\n",
      "     ----------------- -------------------- 45.6/101.0 MB 11.1 MB/s eta 0:00:05\n",
      "     ----------------- -------------------- 46.2/101.0 MB 11.3 MB/s eta 0:00:05\n",
      "     ----------------- -------------------- 46.8/101.0 MB 11.9 MB/s eta 0:00:05\n",
      "     ----------------- -------------------- 47.3/101.0 MB 11.7 MB/s eta 0:00:05\n",
      "     ----------------- -------------------- 47.8/101.0 MB 11.9 MB/s eta 0:00:05\n",
      "     ------------------ ------------------- 48.4/101.0 MB 11.9 MB/s eta 0:00:05\n",
      "     ------------------ ------------------- 48.9/101.0 MB 11.9 MB/s eta 0:00:05\n",
      "     ------------------ ------------------- 49.4/101.0 MB 11.9 MB/s eta 0:00:05\n",
      "     ------------------ ------------------- 50.0/101.0 MB 11.9 MB/s eta 0:00:05\n",
      "     ------------------ ------------------- 50.5/101.0 MB 11.9 MB/s eta 0:00:05\n",
      "     ------------------- ------------------ 51.1/101.0 MB 11.7 MB/s eta 0:00:05\n",
      "     ------------------- ------------------ 51.7/101.0 MB 11.7 MB/s eta 0:00:05\n",
      "     ------------------- ------------------ 52.2/101.0 MB 11.7 MB/s eta 0:00:05\n",
      "     ------------------- ------------------ 52.7/101.0 MB 11.9 MB/s eta 0:00:05\n",
      "     -------------------- ----------------- 53.3/101.0 MB 11.7 MB/s eta 0:00:05\n",
      "     -------------------- ----------------- 53.9/101.0 MB 11.9 MB/s eta 0:00:04\n",
      "     -------------------- ----------------- 54.1/101.0 MB 11.7 MB/s eta 0:00:05\n",
      "     -------------------- ----------------- 54.1/101.0 MB 11.7 MB/s eta 0:00:05\n",
      "     -------------------- ----------------- 54.1/101.0 MB 11.7 MB/s eta 0:00:05\n",
      "     -------------------- ----------------- 54.1/101.0 MB 11.7 MB/s eta 0:00:05\n",
      "     -------------------- ------------------ 54.3/101.0 MB 9.5 MB/s eta 0:00:05\n",
      "     --------------------- ----------------- 54.8/101.0 MB 9.2 MB/s eta 0:00:06\n",
      "     --------------------- ----------------- 55.1/101.0 MB 9.0 MB/s eta 0:00:06\n",
      "     --------------------- ----------------- 55.6/101.0 MB 9.0 MB/s eta 0:00:06\n",
      "     --------------------- ----------------- 56.2/101.0 MB 9.1 MB/s eta 0:00:05\n",
      "     --------------------- ----------------- 56.7/101.0 MB 9.2 MB/s eta 0:00:05\n",
      "     ---------------------- ---------------- 57.5/101.0 MB 9.1 MB/s eta 0:00:05\n",
      "     ---------------------- ---------------- 58.0/101.0 MB 9.1 MB/s eta 0:00:05\n",
      "     ---------------------- ---------------- 58.5/101.0 MB 9.0 MB/s eta 0:00:05\n",
      "     ---------------------- ---------------- 59.1/101.0 MB 8.8 MB/s eta 0:00:05\n",
      "     ----------------------- --------------- 59.6/101.0 MB 9.0 MB/s eta 0:00:05\n",
      "     ----------------------- --------------- 60.3/101.0 MB 9.0 MB/s eta 0:00:05\n",
      "     ----------------------- --------------- 60.8/101.0 MB 9.0 MB/s eta 0:00:05\n",
      "     ----------------------- --------------- 61.4/101.0 MB 8.8 MB/s eta 0:00:05\n",
      "     ----------------------- --------------- 62.0/101.0 MB 9.0 MB/s eta 0:00:05\n",
      "     ------------------------ -------------- 62.6/101.0 MB 9.0 MB/s eta 0:00:05\n",
      "     ------------------------ -------------- 63.2/101.0 MB 9.1 MB/s eta 0:00:05\n",
      "     ------------------------ -------------- 63.6/101.0 MB 8.8 MB/s eta 0:00:05\n",
      "     ------------------------ -------------- 63.9/101.0 MB 8.7 MB/s eta 0:00:05\n",
      "     ------------------------ ------------- 64.6/101.0 MB 10.7 MB/s eta 0:00:04\n",
      "     ------------------------ ------------- 65.1/101.0 MB 10.9 MB/s eta 0:00:04\n",
      "     ------------------------ ------------- 65.7/101.0 MB 11.3 MB/s eta 0:00:04\n",
      "     ------------------------ ------------- 66.2/101.0 MB 11.1 MB/s eta 0:00:04\n",
      "     ------------------------- ------------ 66.7/101.0 MB 11.1 MB/s eta 0:00:04\n",
      "     ------------------------- ------------ 67.4/101.0 MB 11.3 MB/s eta 0:00:03\n",
      "     ------------------------- ------------ 67.9/101.0 MB 11.1 MB/s eta 0:00:03\n",
      "     ------------------------- ------------ 68.4/101.0 MB 11.5 MB/s eta 0:00:03\n",
      "     ------------------------- ------------ 69.0/101.0 MB 11.3 MB/s eta 0:00:03\n",
      "     -------------------------- ----------- 69.4/101.0 MB 11.3 MB/s eta 0:00:03\n",
      "     -------------------------- ----------- 70.1/101.0 MB 11.3 MB/s eta 0:00:03\n",
      "     -------------------------- ----------- 70.6/101.0 MB 11.5 MB/s eta 0:00:03\n",
      "     -------------------------- ----------- 71.1/101.0 MB 11.5 MB/s eta 0:00:03\n",
      "     -------------------------- ----------- 71.7/101.0 MB 11.5 MB/s eta 0:00:03\n",
      "     --------------------------- ---------- 72.2/101.0 MB 11.3 MB/s eta 0:00:03\n",
      "     --------------------------- ---------- 72.9/101.0 MB 11.3 MB/s eta 0:00:03\n",
      "     --------------------------- ---------- 73.6/101.0 MB 11.3 MB/s eta 0:00:03\n",
      "     --------------------------- ---------- 74.1/101.0 MB 11.3 MB/s eta 0:00:03\n",
      "     ---------------------------- --------- 74.6/101.0 MB 11.5 MB/s eta 0:00:03\n",
      "     ---------------------------- --------- 75.2/101.0 MB 11.5 MB/s eta 0:00:03\n",
      "     ---------------------------- --------- 75.7/101.0 MB 11.5 MB/s eta 0:00:03\n",
      "     ---------------------------- --------- 76.3/101.0 MB 11.5 MB/s eta 0:00:03\n",
      "     ---------------------------- --------- 76.9/101.0 MB 11.7 MB/s eta 0:00:03\n",
      "     ----------------------------- -------- 77.7/101.0 MB 11.9 MB/s eta 0:00:02\n",
      "     ----------------------------- -------- 78.1/101.0 MB 11.5 MB/s eta 0:00:02\n",
      "     ----------------------------- -------- 78.3/101.0 MB 11.3 MB/s eta 0:00:03\n",
      "     ----------------------------- -------- 78.3/101.0 MB 11.3 MB/s eta 0:00:03\n",
      "     ----------------------------- -------- 78.3/101.0 MB 11.3 MB/s eta 0:00:03\n",
      "     ----------------------------- -------- 78.3/101.0 MB 11.3 MB/s eta 0:00:03\n",
      "     ----------------------------- -------- 78.3/101.0 MB 11.3 MB/s eta 0:00:03\n",
      "     ------------------------------ -------- 78.7/101.0 MB 8.8 MB/s eta 0:00:03\n",
      "     ------------------------------ -------- 79.0/101.0 MB 8.7 MB/s eta 0:00:03\n",
      "     ------------------------------ -------- 79.4/101.0 MB 8.5 MB/s eta 0:00:03\n",
      "     ------------------------------ -------- 80.1/101.0 MB 8.5 MB/s eta 0:00:03\n",
      "     ------------------------------- ------- 80.7/101.0 MB 8.5 MB/s eta 0:00:03\n",
      "     ------------------------------- ------- 81.3/101.0 MB 8.5 MB/s eta 0:00:03\n",
      "     ------------------------------- ------- 81.8/101.0 MB 8.5 MB/s eta 0:00:03\n",
      "     ------------------------------- ------- 82.3/101.0 MB 8.5 MB/s eta 0:00:03\n",
      "     ------------------------------- ------- 82.9/101.0 MB 8.4 MB/s eta 0:00:03\n",
      "     -------------------------------- ------ 83.4/101.0 MB 8.3 MB/s eta 0:00:03\n",
      "     -------------------------------- ------ 83.8/101.0 MB 8.3 MB/s eta 0:00:03\n",
      "     -------------------------------- ------ 84.4/101.0 MB 8.2 MB/s eta 0:00:03\n",
      "     -------------------------------- ------ 84.9/101.0 MB 8.2 MB/s eta 0:00:02\n",
      "     -------------------------------- ------ 85.4/101.0 MB 8.2 MB/s eta 0:00:02\n",
      "     --------------------------------- ----- 86.1/101.0 MB 8.1 MB/s eta 0:00:02\n",
      "     --------------------------------- ----- 86.7/101.0 MB 8.1 MB/s eta 0:00:02\n",
      "     --------------------------------- ----- 87.3/101.0 MB 8.1 MB/s eta 0:00:02\n",
      "     --------------------------------- ----- 87.9/101.0 MB 8.0 MB/s eta 0:00:02\n",
      "     ---------------------------------- ---- 88.4/101.0 MB 8.1 MB/s eta 0:00:02\n",
      "     --------------------------------- ---- 88.9/101.0 MB 10.2 MB/s eta 0:00:02\n",
      "     --------------------------------- ---- 89.4/101.0 MB 10.4 MB/s eta 0:00:02\n",
      "     --------------------------------- ---- 89.9/101.0 MB 10.7 MB/s eta 0:00:02\n",
      "     ---------------------------------- --- 90.5/101.0 MB 10.7 MB/s eta 0:00:01\n",
      "     ---------------------------------- --- 91.1/101.0 MB 10.7 MB/s eta 0:00:01\n",
      "     ---------------------------------- --- 91.7/101.0 MB 10.9 MB/s eta 0:00:01\n",
      "     ---------------------------------- --- 92.2/101.0 MB 10.6 MB/s eta 0:00:01\n",
      "     ---------------------------------- --- 92.9/101.0 MB 10.9 MB/s eta 0:00:01\n",
      "     ----------------------------------- -- 93.4/101.0 MB 10.9 MB/s eta 0:00:01\n",
      "     ----------------------------------- -- 94.1/101.0 MB 10.9 MB/s eta 0:00:01\n",
      "     ----------------------------------- -- 94.6/101.0 MB 11.1 MB/s eta 0:00:01\n",
      "     ----------------------------------- -- 95.2/101.0 MB 11.3 MB/s eta 0:00:01\n",
      "     ----------------------------------- -- 95.6/101.0 MB 10.9 MB/s eta 0:00:01\n",
      "     ------------------------------------ - 96.2/101.0 MB 10.9 MB/s eta 0:00:01\n",
      "     ------------------------------------ - 96.7/101.0 MB 11.1 MB/s eta 0:00:01\n",
      "     ------------------------------------ - 97.2/101.0 MB 11.1 MB/s eta 0:00:01\n",
      "     ------------------------------------ - 97.8/101.0 MB 11.1 MB/s eta 0:00:01\n",
      "     ------------------------------------ - 98.3/101.0 MB 11.1 MB/s eta 0:00:01\n",
      "     -------------------------------------  98.9/101.0 MB 11.3 MB/s eta 0:00:01\n",
      "     -------------------------------------  99.4/101.0 MB 11.1 MB/s eta 0:00:01\n",
      "     -------------------------------------  99.9/101.0 MB 11.1 MB/s eta 0:00:01\n",
      "     ------------------------------------  100.4/101.0 MB 11.3 MB/s eta 0:00:01\n",
      "     ------------------------------------  101.0/101.0 MB 11.3 MB/s eta 0:00:01\n",
      "     ------------------------------------  101.0/101.0 MB 11.3 MB/s eta 0:00:01\n",
      "     ------------------------------------  101.0/101.0 MB 11.3 MB/s eta 0:00:01\n",
      "     ------------------------------------  101.0/101.0 MB 11.3 MB/s eta 0:00:01\n",
      "     ------------------------------------  101.0/101.0 MB 11.3 MB/s eta 0:00:01\n",
      "     ------------------------------------  101.0/101.0 MB 11.3 MB/s eta 0:00:01\n",
      "     ------------------------------------  101.0/101.0 MB 11.3 MB/s eta 0:00:01\n",
      "     ------------------------------------  101.0/101.0 MB 11.3 MB/s eta 0:00:01\n",
      "     -------------------------------------- 101.0/101.0 MB 5.9 MB/s eta 0:00:00\n",
      "Requirement already satisfied: numpy>=1.16.0 in c:\\users\\soumyadeep\\anaconda3\\envs\\inteloneapi\\lib\\site-packages (from catboost) (1.22.3)\n",
      "Requirement already satisfied: pandas>=0.24 in c:\\users\\soumyadeep\\anaconda3\\envs\\inteloneapi\\lib\\site-packages (from catboost) (1.5.3)\n",
      "Collecting graphviz\n",
      "  Downloading graphviz-0.20.1-py3-none-any.whl (47 kB)\n",
      "     ---------------------------------------- 0.0/47.0 kB ? eta -:--:--\n",
      "     ---------------------------------------- 47.0/47.0 kB 1.2 MB/s eta 0:00:00\n",
      "Requirement already satisfied: scipy in c:\\users\\soumyadeep\\anaconda3\\envs\\inteloneapi\\lib\\site-packages (from catboost) (1.8.1)\n",
      "Requirement already satisfied: six in c:\\users\\soumyadeep\\anaconda3\\envs\\inteloneapi\\lib\\site-packages (from catboost) (1.16.0)\n",
      "Requirement already satisfied: plotly in c:\\users\\soumyadeep\\anaconda3\\envs\\inteloneapi\\lib\\site-packages (from catboost) (5.15.0)\n",
      "Requirement already satisfied: matplotlib in c:\\users\\soumyadeep\\anaconda3\\envs\\inteloneapi\\lib\\site-packages (from catboost) (3.7.1)\n",
      "Requirement already satisfied: python-dateutil>=2.8.1 in c:\\users\\soumyadeep\\anaconda3\\envs\\inteloneapi\\lib\\site-packages (from pandas>=0.24->catboost) (2.8.2)\n",
      "Requirement already satisfied: pytz>=2020.1 in c:\\users\\soumyadeep\\anaconda3\\envs\\inteloneapi\\lib\\site-packages (from pandas>=0.24->catboost) (2022.7)\n",
      "Requirement already satisfied: cycler>=0.10 in c:\\users\\soumyadeep\\anaconda3\\envs\\inteloneapi\\lib\\site-packages (from matplotlib->catboost) (0.11.0)\n",
      "Requirement already satisfied: packaging>=20.0 in c:\\users\\soumyadeep\\anaconda3\\envs\\inteloneapi\\lib\\site-packages (from matplotlib->catboost) (22.0)\n",
      "Requirement already satisfied: kiwisolver>=1.0.1 in c:\\users\\soumyadeep\\anaconda3\\envs\\inteloneapi\\lib\\site-packages (from matplotlib->catboost) (1.4.4)\n",
      "Requirement already satisfied: pillow>=6.2.0 in c:\\users\\soumyadeep\\anaconda3\\envs\\inteloneapi\\lib\\site-packages (from matplotlib->catboost) (9.4.0)\n",
      "Requirement already satisfied: contourpy>=1.0.1 in c:\\users\\soumyadeep\\anaconda3\\envs\\inteloneapi\\lib\\site-packages (from matplotlib->catboost) (1.0.7)\n",
      "Requirement already satisfied: fonttools>=4.22.0 in c:\\users\\soumyadeep\\anaconda3\\envs\\inteloneapi\\lib\\site-packages (from matplotlib->catboost) (4.39.0)\n",
      "Requirement already satisfied: importlib-resources>=3.2.0 in c:\\users\\soumyadeep\\anaconda3\\envs\\inteloneapi\\lib\\site-packages (from matplotlib->catboost) (5.2.0)\n",
      "Requirement already satisfied: pyparsing>=2.3.1 in c:\\users\\soumyadeep\\anaconda3\\envs\\inteloneapi\\lib\\site-packages (from matplotlib->catboost) (3.0.9)\n",
      "Requirement already satisfied: tenacity>=6.2.0 in c:\\users\\soumyadeep\\anaconda3\\envs\\inteloneapi\\lib\\site-packages (from plotly->catboost) (8.2.2)\n",
      "Requirement already satisfied: zipp>=3.1.0 in c:\\users\\soumyadeep\\anaconda3\\envs\\inteloneapi\\lib\\site-packages (from importlib-resources>=3.2.0->matplotlib->catboost) (3.11.0)\n",
      "Installing collected packages: graphviz, catboost\n",
      "Successfully installed catboost-1.2 graphviz-0.20.1\n"
     ]
    }
   ],
   "source": [
    "! pip install catboost\n"
   ]
  },
  {
   "cell_type": "code",
   "execution_count": 66,
   "metadata": {},
   "outputs": [
    {
     "name": "stdout",
     "output_type": "stream",
     "text": [
      "['step', 'type', 'amount', 'nameOrig', 'oldbalanceOrg', 'newbalanceOrig', 'nameDest', 'oldbalanceDest', 'newbalanceDest', 'isFraud', 'isFlaggedFraud']\n"
     ]
    },
    {
     "name": "stderr",
     "output_type": "stream",
     "text": [
      "C:\\Users\\Soumyadeep\\AppData\\Local\\Temp\\ipykernel_15144\\802640.py:6: DeprecationWarning: `np.float` is a deprecated alias for the builtin `float`. To silence this warning, use `float` by itself. Doing this will not modify any behavior and is safe. If you specifically wanted the numpy scalar type, use `np.float64` here.\n",
      "Deprecated in NumPy 1.20; for more details and guidance: https://numpy.org/devdocs/release/1.20.0-notes.html#deprecations\n",
      "  card_categories = np.where(credit_catboost_ready_df[features].dtypes != np.float)[0]\n"
     ]
    },
    {
     "data": {
      "text/plain": [
       "array([ 0,  1,  3,  6,  9, 10], dtype=int64)"
      ]
     },
     "execution_count": 66,
     "metadata": {},
     "output_type": "execute_result"
    }
   ],
   "source": [
    "# map categorical features\n",
    "credit_catboost_ready_df = df.dropna() \n",
    "\n",
    "features = [feat for feat in list(credit_catboost_ready_df) if feat != 'Class']\n",
    "print(features)\n",
    "card_categories = np.where(credit_catboost_ready_df[features].dtypes != np.float)[0]\n",
    "card_categories"
   ]
  },
  {
   "cell_type": "code",
   "execution_count": 70,
   "metadata": {},
   "outputs": [
    {
     "name": "stdout",
     "output_type": "stream",
     "text": [
      "              precision    recall  f1-score   support\n",
      "\n",
      "           0       1.00      0.94      0.97       186\n",
      "           1       0.54      1.00      0.70        14\n",
      "\n",
      "    accuracy                           0.94       200\n",
      "   macro avg       0.77      0.97      0.83       200\n",
      "weighted avg       0.97      0.94      0.95       200\n",
      "\n"
     ]
    }
   ],
   "source": [
    "from imblearn.over_sampling import SMOTE\n",
    "from imblearn.under_sampling import RandomUnderSampler\n",
    "from sklearn.datasets import make_classification\n",
    "from sklearn.model_selection import train_test_split\n",
    "from sklearn.linear_model import LogisticRegression\n",
    "from sklearn.metrics import classification_report\n",
    "\n",
    "\n",
    "# Generate an imbalanced dataset\n",
    "X, y = make_classification(n_samples=1000, n_features=20, n_informative=2,\n",
    "                           n_redundant=10, n_clusters_per_class=1, weights=[0.9],\n",
    "                           flip_y=0, random_state=42)\n",
    "\n",
    "# Split the dataset into train and test sets\n",
    "X_train, X_test, y_train, y_test = train_test_split(X, y, test_size=0.2, random_state=42)\n",
    "\n",
    "# Perform under-sampling using RandomUnderSampler\n",
    "under_sampler = RandomUnderSampler(sampling_strategy='majority')\n",
    "X_train_under, y_train_under = under_sampler.fit_resample(X_train, y_train)\n",
    "\n",
    "# Perform over-sampling using SMOTE\n",
    "over_sampler = SMOTE(sampling_strategy='minority')\n",
    "X_train_balanced, y_train_balanced = over_sampler.fit_resample(X_train_under, y_train_under)\n",
    "\n",
    "# Train a classifier on the balanced dataset\n",
    "classifier = LogisticRegression()\n",
    "classifier.fit(X_train_balanced, y_train_balanced)\n",
    "\n",
    "# Evaluate the classifier on the test set\n",
    "y_pred = classifier.predict(X_test)\n",
    "print(classification_report(y_test, y_pred))\n"
   ]
  },
  {
   "cell_type": "code",
   "execution_count": 71,
   "metadata": {},
   "outputs": [
    {
     "name": "stdout",
     "output_type": "stream",
     "text": [
      "              precision    recall  f1-score   support\n",
      "\n",
      "           0       1.00      0.98      0.99       186\n",
      "           1       0.78      1.00      0.88        14\n",
      "\n",
      "    accuracy                           0.98       200\n",
      "   macro avg       0.89      0.99      0.93       200\n",
      "weighted avg       0.98      0.98      0.98       200\n",
      "\n"
     ]
    }
   ],
   "source": [
    "from imblearn.ensemble import EasyEnsembleClassifier\n",
    "from sklearn.datasets import make_classification\n",
    "from sklearn.model_selection import train_test_split\n",
    "from sklearn.metrics import classification_report\n",
    "\n",
    "# Generate an imbalanced dataset\n",
    "X, y = make_classification(n_samples=1000, n_features=20, n_informative=2,\n",
    "                           n_redundant=10, n_clusters_per_class=1, weights=[0.9],\n",
    "                           flip_y=0, random_state=42)\n",
    "\n",
    "# Split the dataset into train and test sets\n",
    "X_train, X_test, y_train, y_test = train_test_split(X, y, test_size=0.2, random_state=42)\n",
    "\n",
    "# Create an EasyEnsembleClassifier\n",
    "ensemble_clf = EasyEnsembleClassifier(n_estimators=10, random_state=42)\n",
    "\n",
    "# Train the classifier on the balanced dataset\n",
    "ensemble_clf.fit(X_train, y_train)\n",
    "\n",
    "# Evaluate the classifier on the test set\n",
    "y_pred = ensemble_clf.predict(X_test)\n",
    "print(classification_report(y_test, y_pred))\n"
   ]
  },
  {
   "cell_type": "code",
   "execution_count": 72,
   "metadata": {},
   "outputs": [
    {
     "name": "stdout",
     "output_type": "stream",
     "text": [
      "              precision    recall  f1-score   support\n",
      "\n",
      "           0       1.00      0.99      0.99       186\n",
      "           1       0.88      1.00      0.93        14\n",
      "\n",
      "    accuracy                           0.99       200\n",
      "   macro avg       0.94      0.99      0.96       200\n",
      "weighted avg       0.99      0.99      0.99       200\n",
      "\n"
     ]
    }
   ],
   "source": [
    "import xgboost as xgb\n",
    "from imblearn.over_sampling import SMOTE\n",
    "from sklearn.datasets import make_classification\n",
    "from sklearn.model_selection import train_test_split\n",
    "from sklearn.metrics import classification_report\n",
    "\n",
    "# Generate an imbalanced dataset\n",
    "X, y = make_classification(n_samples=1000, n_features=20, n_informative=2,\n",
    "                           n_redundant=10, n_clusters_per_class=1, weights=[0.9],\n",
    "                           flip_y=0, random_state=42)\n",
    "\n",
    "# Split the dataset into train and test sets\n",
    "X_train, X_test, y_train, y_test = train_test_split(X, y, test_size=0.2, random_state=42)\n",
    "\n",
    "# Perform over-sampling using SMOTE\n",
    "smote = SMOTE(sampling_strategy='minority')\n",
    "X_train_balanced, y_train_balanced = smote.fit_resample(X_train, y_train)\n",
    "\n",
    "# Convert the data into DMatrix format\n",
    "dtrain = xgb.DMatrix(X_train_balanced, label=y_train_balanced)\n",
    "dtest = xgb.DMatrix(X_test)\n",
    "\n",
    "# Define the parameters for XGBoost\n",
    "params = {\n",
    "    'objective': 'binary:logistic',\n",
    "    'eval_metric': 'auc',\n",
    "    'eta': 0.1,\n",
    "    'max_depth': 3,\n",
    "    'subsample': 0.8,\n",
    "    'colsample_bytree': 0.8,\n",
    "    'seed': 42\n",
    "}\n",
    "\n",
    "# Train the XGBoost model\n",
    "model = xgb.train(params, dtrain)\n",
    "\n",
    "# Make predictions on the test set\n",
    "y_pred = model.predict(dtest)\n",
    "y_pred = (y_pred > 0.5).astype(int)\n",
    "\n",
    "# Evaluate the model\n",
    "print(classification_report(y_test, y_pred))\n"
   ]
  },
  {
   "cell_type": "code",
   "execution_count": 73,
   "metadata": {},
   "outputs": [
    {
     "data": {
      "image/png": "[encoded data removed]",
      "text/plain": [
       "<Figure size 800x600 with 2 Axes>"
      ]
     },
     "metadata": {},
     "output_type": "display_data"
    }
   ],
   "source": [
    "from sklearn.metrics import confusion_matrix\n",
    "import pandas as pd\n",
    "import matplotlib.pyplot as plt\n",
    "import seaborn as sns\n",
    "\n",
    "cm = confusion_matrix(y_test, y_pred)\n",
    "conf_matrix = pd.DataFrame(data=cm, columns=['Predicted:0', 'Predicted:1'], index=['Actual:0', 'Actual:1'])\n",
    "plt.figure(figsize=(8, 6))\n",
    "sns.heatmap(conf_matrix, annot=True, fmt='d', cmap='YlGnBu')\n",
    "plt.show()"
   ]
  },
  {
   "cell_type": "code",
   "execution_count": null,
   "metadata": {},
   "outputs": [],
   "source": []
  },
  {
   "cell_type": "code",
   "execution_count": 74,
   "metadata": {},
   "outputs": [
    {
     "name": "stdout",
     "output_type": "stream",
     "text": [
      "0.99\n"
     ]
    }
   ],
   "source": [
    "print(accuracy_score(y_test,y_pred))"
   ]
  },
  {
   "cell_type": "code",
   "execution_count": 77,
   "metadata": {},
   "outputs": [
    {
     "name": "stdout",
     "output_type": "stream",
     "text": [
      "The number of classes before fit Counter({0: 715, 1: 85})\n",
      "The number of classes after fit Counter({1: 715, 0: 715})\n"
     ]
    }
   ],
   "source": [
    "from imblearn.combine import SMOTETomek\n",
    "os=SMOTETomek(random_state=42)\n",
    "X_train_ns,y_train_ns=os.fit_resample(X_train,y_train)\n",
    "print(\"The number of classes before fit {}\".format(Counter(y_train)))\n",
    "print(\"The number of classes after fit {}\".format(Counter(y_train_ns)))"
   ]
  },
  {
   "cell_type": "code",
   "execution_count": 78,
   "metadata": {},
   "outputs": [],
   "source": [
    "clf= RandomForestClassifier(n_estimators=100, criterion='gini', max_depth=None, min_samples_split=2, min_samples_leaf=1, max_features='auto', bootstrap=True, random_state=0, verbose=0)"
   ]
  },
  {
   "cell_type": "code",
   "execution_count": 79,
   "metadata": {},
   "outputs": [
    {
     "name": "stderr",
     "output_type": "stream",
     "text": [
      "C:\\Users\\Soumyadeep\\anaconda3\\envs\\inteloneapi\\lib\\site-packages\\daal4py\\sklearn\\ensemble\\_forest.py:57: FutureWarning: `max_features='auto'` has been deprecated in 1.1 and will be removed in 1.3. To keep the past behaviour, explicitly set `max_features=1.0` or remove this parameter as it is also the default value for RandomForestRegressors and ExtraTreesRegressors.\n",
      "  warnings.warn(\n"
     ]
    }
   ],
   "source": [
    "clf.fit(X_train_ns,y_train_ns)\n",
    "y_pred = clf.predict(X_test)\n"
   ]
  },
  {
   "cell_type": "code",
   "execution_count": 82,
   "metadata": {},
   "outputs": [
    {
     "data": {
      "text/plain": [
       "array([0, 0, 0, 0, 0, 0, 0, 0, 0, 0, 0, 0, 0, 0, 0, 0, 0, 0, 0, 1, 0, 0,\n",
       "       0, 0, 1, 1, 0, 0, 0, 0, 0, 1, 0, 0, 0, 0, 1, 0, 0, 0, 0, 0, 0, 0,\n",
       "       0, 0, 1, 0, 0, 0, 0, 0, 0, 0, 0, 0, 0, 1, 0, 0, 0, 0, 0, 0, 0, 0,\n",
       "       0, 0, 0, 1, 0, 0, 0, 0, 0, 0, 0, 0, 0, 0, 1, 0, 1, 0, 0, 0, 0, 0,\n",
       "       0, 0, 0, 0, 1, 0, 0, 0, 0, 0, 0, 0, 0, 0, 0, 0, 0, 0, 1, 0, 0, 0,\n",
       "       0, 0, 0, 0, 0, 0, 0, 0, 0, 0, 0, 0, 0, 0, 1, 0, 0, 0, 0, 0, 0, 0,\n",
       "       0, 0, 0, 0, 0, 0, 1, 0, 0, 0, 0, 0, 0, 0, 1, 0, 0, 0, 0, 0, 0, 0,\n",
       "       0, 0, 0, 0, 0, 0, 0, 0, 0, 0, 0, 0, 0, 0, 0, 0, 0, 0, 0, 0, 0, 0,\n",
       "       0, 0, 0, 0, 0, 0, 0, 0, 0, 0, 0, 0, 0, 0, 0, 0, 0, 0, 1, 0, 0, 0,\n",
       "       0, 0])"
      ]
     },
     "execution_count": 82,
     "metadata": {},
     "output_type": "execute_result"
    }
   ],
   "source": [
    "y_pred = (y_pred > 0.5).astype(int)\n",
    "y_pred"
   ]
  },
  {
   "cell_type": "code",
   "execution_count": 83,
   "metadata": {},
   "outputs": [
    {
     "name": "stdout",
     "output_type": "stream",
     "text": [
      "              precision    recall  f1-score   support\n",
      "\n",
      "           0       1.00      0.99      0.99       186\n",
      "           1       0.88      1.00      0.93        14\n",
      "\n",
      "    accuracy                           0.99       200\n",
      "   macro avg       0.94      0.99      0.96       200\n",
      "weighted avg       0.99      0.99      0.99       200\n",
      "\n"
     ]
    }
   ],
   "source": [
    "print(classification_report(y_test, y_pred))"
   ]
  },
  {
   "cell_type": "code",
   "execution_count": 84,
   "metadata": {},
   "outputs": [
    {
     "data": {
      "image/png": "[encoded data removed]",
      "text/plain": [
       "<Figure size 800x600 with 2 Axes>"
      ]
     },
     "metadata": {},
     "output_type": "display_data"
    }
   ],
   "source": [
    "cm = confusion_matrix(y_test, y_pred)\n",
    "conf_matrix = pd.DataFrame(data=cm, columns=['Predicted:0', 'Predicted:1'], index=['Actual:0', 'Actual:1'])\n",
    "plt.figure(figsize=(8, 6))\n",
    "sns.heatmap(conf_matrix, annot=True, fmt='d', cmap='YlGnBu')\n",
    "plt.show()"
   ]
  },
  {
   "cell_type": "code",
   "execution_count": null,
   "metadata": {},
   "outputs": [],
   "source": [
    "input \n"
   ]
  }
 ],
 "metadata": {
  "kernelspec": {
   "display_name": "Python 3 (ipykernel)",
   "language": "python",
   "name": "python3"
  },
  "language_info": {
   "codemirror_mode": {
    "name": "ipython",
    "version": 3
   },
   "file_extension": ".py",
   "mimetype": "text/x-python",
   "name": "python",
   "nbconvert_exporter": "python",
   "pygments_lexer": "ipython3",
   "version": "3.8.16"
  }
 },
 "nbformat": 4,
 "nbformat_minor": 4
}
